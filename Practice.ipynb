{
 "cells": [
  {
   "cell_type": "code",
   "execution_count": 1,
   "id": "ac176fb9",
   "metadata": {},
   "outputs": [],
   "source": [
    "import sys"
   ]
  },
  {
   "cell_type": "code",
   "execution_count": 3,
   "id": "34f2dae6",
   "metadata": {},
   "outputs": [
    {
     "data": {
      "text/plain": [
       "sys.version_info(major=3, minor=8, micro=8, releaselevel='final', serial=0)"
      ]
     },
     "execution_count": 3,
     "metadata": {},
     "output_type": "execute_result"
    }
   ],
   "source": [
    "sys.version_info"
   ]
  },
  {
   "cell_type": "code",
   "execution_count": 4,
   "id": "ae6dde1b",
   "metadata": {},
   "outputs": [],
   "source": [
    "import keyword"
   ]
  },
  {
   "cell_type": "code",
   "execution_count": 6,
   "id": "77c92491",
   "metadata": {},
   "outputs": [
    {
     "data": {
      "text/plain": [
       "35"
      ]
     },
     "execution_count": 6,
     "metadata": {},
     "output_type": "execute_result"
    }
   ],
   "source": [
    "len(keyword.kwlist)"
   ]
  },
  {
   "cell_type": "code",
   "execution_count": 7,
   "id": "91fd99cc",
   "metadata": {},
   "outputs": [
    {
     "data": {
      "text/plain": [
       "list"
      ]
     },
     "execution_count": 7,
     "metadata": {},
     "output_type": "execute_result"
    }
   ],
   "source": [
    "type(keyword.kwlist)"
   ]
  },
  {
   "cell_type": "code",
   "execution_count": 5,
   "id": "66c54dd1",
   "metadata": {},
   "outputs": [
    {
     "name": "stdout",
     "output_type": "stream",
     "text": [
      "False/None/True/and/as/\n",
      "assert/async/await/break/class/\n",
      "continue/def/del/elif/else/\n",
      "except/finally/for/from/global/\n",
      "if/import/in/is/lambda/\n",
      "nonlocal/not/or/pass/raise/\n",
      "return/try/while/with/yield/\n"
     ]
    }
   ],
   "source": [
    "count = 0\n",
    "for i in keyword.kwlist:\n",
    "    print(i,end=\"/\")\n",
    "    count += 1\n",
    "    if count % 5 ==0 :\n",
    "        print()"
   ]
  },
  {
   "cell_type": "code",
   "execution_count": 7,
   "id": "d095a7a7",
   "metadata": {},
   "outputs": [],
   "source": [
    "import string"
   ]
  },
  {
   "cell_type": "code",
   "execution_count": 11,
   "id": "225d94b7",
   "metadata": {},
   "outputs": [
    {
     "name": "stdout",
     "output_type": "stream",
     "text": [
      "Formatter,Template,_ChainMap,_TemplateMetaclass,__all__,\n",
      "__builtins__,__cached__,__doc__,__file__,__loader__,\n",
      "__name__,__package__,__spec__,_re,_sentinel_dict,\n",
      "_string,ascii_letters,ascii_lowercase,ascii_uppercase,capwords,\n",
      "digits,hexdigits,octdigits,printable,punctuation,\n",
      "whitespace,"
     ]
    }
   ],
   "source": [
    "count = 0\n",
    "for i in dir(string) :\n",
    "    print(i,end=\",\")\n",
    "    count += 1\n",
    "    if count % 5 == 0 :\n",
    "        print()"
   ]
  },
  {
   "cell_type": "code",
   "execution_count": 12,
   "id": "4807153e",
   "metadata": {},
   "outputs": [],
   "source": [
    "a = 100"
   ]
  },
  {
   "cell_type": "code",
   "execution_count": 14,
   "id": "1f0c9d53",
   "metadata": {},
   "outputs": [
    {
     "data": {
      "text/plain": [
       "100"
      ]
     },
     "execution_count": 14,
     "metadata": {},
     "output_type": "execute_result"
    }
   ],
   "source": [
    "globals()['a']"
   ]
  },
  {
   "cell_type": "code",
   "execution_count": 15,
   "id": "9341494a",
   "metadata": {},
   "outputs": [],
   "source": [
    "def add(x,y):\n",
    "    return x+y"
   ]
  },
  {
   "cell_type": "code",
   "execution_count": 18,
   "id": "9f92ac6e",
   "metadata": {},
   "outputs": [
    {
     "data": {
      "text/plain": [
       "100"
      ]
     },
     "execution_count": 18,
     "metadata": {},
     "output_type": "execute_result"
    }
   ],
   "source": [
    "add.__globals__['a']"
   ]
  },
  {
   "cell_type": "code",
   "execution_count": 19,
   "id": "0e76a542",
   "metadata": {},
   "outputs": [
    {
     "data": {
      "text/plain": [
       "{'__name__': '__main__',\n",
       " '__doc__': 'Automatically created module for IPython interactive environment',\n",
       " '__package__': None,\n",
       " '__loader__': None,\n",
       " '__spec__': None,\n",
       " '__builtin__': <module 'builtins' (built-in)>,\n",
       " '__builtins__': <module 'builtins' (built-in)>,\n",
       " '_ih': ['',\n",
       "  'count = 0',\n",
       "  'for i in keyword.kwlist:\\n    print(i,end=\"/\")\\n    count += 1\\n    if count % 5 ==0 :\\n        print()',\n",
       "  'count = 0\\nfor i in keyword.kwlist:\\n    print(i,end=\"/\")\\n    count += 1\\n    if count % 5 ==0 :\\n        print()',\n",
       "  'import keyword',\n",
       "  'count = 0\\nfor i in keyword.kwlist:\\n    print(i,end=\"/\")\\n    count += 1\\n    if count % 5 ==0 :\\n        print()',\n",
       "  'import string',\n",
       "  'import string',\n",
       "  'string__dir__',\n",
       "  'string.__dir__',\n",
       "  'count = 0\\nfor i in string.dir :\\n    print(i,end=\",\")\\n    count += 1\\n    if count % 5 == 0 :\\n        print()',\n",
       "  'count = 0\\nfor i in dir(string) :\\n    print(i,end=\",\")\\n    count += 1\\n    if count % 5 == 0 :\\n        print()',\n",
       "  'a = 100',\n",
       "  \"globals()['i']\",\n",
       "  \"globals()['a']\",\n",
       "  'def add(x,y):\\n    return x+y',\n",
       "  \"add.__globals__['i']\",\n",
       "  \"add.__globals__['a']\",\n",
       "  \"add.__globals__['a']\",\n",
       "  'add.__globals__'],\n",
       " '_oh': {9: <function __dir__>,\n",
       "  13: 'whitespace',\n",
       "  14: 100,\n",
       "  16: 'whitespace',\n",
       "  17: 100,\n",
       "  18: 100},\n",
       " '_dh': ['D:\\\\python\\\\python_study'],\n",
       " 'In': ['',\n",
       "  'count = 0',\n",
       "  'for i in keyword.kwlist:\\n    print(i,end=\"/\")\\n    count += 1\\n    if count % 5 ==0 :\\n        print()',\n",
       "  'count = 0\\nfor i in keyword.kwlist:\\n    print(i,end=\"/\")\\n    count += 1\\n    if count % 5 ==0 :\\n        print()',\n",
       "  'import keyword',\n",
       "  'count = 0\\nfor i in keyword.kwlist:\\n    print(i,end=\"/\")\\n    count += 1\\n    if count % 5 ==0 :\\n        print()',\n",
       "  'import string',\n",
       "  'import string',\n",
       "  'string__dir__',\n",
       "  'string.__dir__',\n",
       "  'count = 0\\nfor i in string.dir :\\n    print(i,end=\",\")\\n    count += 1\\n    if count % 5 == 0 :\\n        print()',\n",
       "  'count = 0\\nfor i in dir(string) :\\n    print(i,end=\",\")\\n    count += 1\\n    if count % 5 == 0 :\\n        print()',\n",
       "  'a = 100',\n",
       "  \"globals()['i']\",\n",
       "  \"globals()['a']\",\n",
       "  'def add(x,y):\\n    return x+y',\n",
       "  \"add.__globals__['i']\",\n",
       "  \"add.__globals__['a']\",\n",
       "  \"add.__globals__['a']\",\n",
       "  'add.__globals__'],\n",
       " 'Out': {9: <function __dir__>,\n",
       "  13: 'whitespace',\n",
       "  14: 100,\n",
       "  16: 'whitespace',\n",
       "  17: 100,\n",
       "  18: 100},\n",
       " 'get_ipython': <bound method InteractiveShell.get_ipython of <ipykernel.zmqshell.ZMQInteractiveShell object at 0x000001F49F1D7D90>>,\n",
       " 'exit': <IPython.core.autocall.ZMQExitAutocall at 0x1f49f2695e0>,\n",
       " 'quit': <IPython.core.autocall.ZMQExitAutocall at 0x1f49f2695e0>,\n",
       " '_': 100,\n",
       " '__': 100,\n",
       " '___': 'whitespace',\n",
       " '_i': \"add.__globals__['a']\",\n",
       " '_ii': \"add.__globals__['a']\",\n",
       " '_iii': \"add.__globals__['i']\",\n",
       " '_i1': 'count = 0',\n",
       " 'count': 26,\n",
       " '_i2': 'for i in keyword.kwlist:\\n    print(i,end=\"/\")\\n    count += 1\\n    if count % 5 ==0 :\\n        print()',\n",
       " '_i3': 'count = 0\\nfor i in keyword.kwlist:\\n    print(i,end=\"/\")\\n    count += 1\\n    if count % 5 ==0 :\\n        print()',\n",
       " '_i4': 'import keyword',\n",
       " 'keyword': <module 'keyword' from 'C:\\\\Users\\\\yoonchae\\\\anaconda3\\\\lib\\\\keyword.py'>,\n",
       " '_i5': 'count = 0\\nfor i in keyword.kwlist:\\n    print(i,end=\"/\")\\n    count += 1\\n    if count % 5 ==0 :\\n        print()',\n",
       " 'i': 'whitespace',\n",
       " '_i6': 'import string',\n",
       " 'string': <module 'string' from 'C:\\\\Users\\\\yoonchae\\\\anaconda3\\\\lib\\\\string.py'>,\n",
       " '_i7': 'import string',\n",
       " '_i8': 'string__dir__',\n",
       " '_i9': 'string.__dir__',\n",
       " '_9': <function __dir__>,\n",
       " '_i10': 'count = 0\\nfor i in string.dir :\\n    print(i,end=\",\")\\n    count += 1\\n    if count % 5 == 0 :\\n        print()',\n",
       " '_i11': 'count = 0\\nfor i in dir(string) :\\n    print(i,end=\",\")\\n    count += 1\\n    if count % 5 == 0 :\\n        print()',\n",
       " '_i12': 'a = 100',\n",
       " 'a': 100,\n",
       " '_i13': \"globals()['i']\",\n",
       " '_13': 'whitespace',\n",
       " '_i14': \"globals()['a']\",\n",
       " '_14': 100,\n",
       " '_i15': 'def add(x,y):\\n    return x+y',\n",
       " 'add': <function __main__.add(x, y)>,\n",
       " '_i16': \"add.__globals__['i']\",\n",
       " '_16': 'whitespace',\n",
       " '_i17': \"add.__globals__['a']\",\n",
       " '_17': 100,\n",
       " '_i18': \"add.__globals__['a']\",\n",
       " '_18': 100,\n",
       " '_i19': 'add.__globals__'}"
      ]
     },
     "execution_count": 19,
     "metadata": {},
     "output_type": "execute_result"
    }
   ],
   "source": [
    "add.__globals__"
   ]
  },
  {
   "cell_type": "code",
   "execution_count": 21,
   "id": "550911e7",
   "metadata": {},
   "outputs": [
    {
     "data": {
      "text/plain": [
       "['False', 'None']"
      ]
     },
     "execution_count": 21,
     "metadata": {},
     "output_type": "execute_result"
    }
   ],
   "source": [
    "keyword.kwlist[0:2]"
   ]
  },
  {
   "cell_type": "code",
   "execution_count": 52,
   "id": "5b9a8244",
   "metadata": {},
   "outputs": [],
   "source": [
    "s = \"\"\"\n",
    "def add_(x,y) :\n",
    "    return x + y\n",
    "\"\"\""
   ]
  },
  {
   "cell_type": "code",
   "execution_count": 53,
   "id": "d4e0cbe2",
   "metadata": {},
   "outputs": [],
   "source": [
    "exec(s)"
   ]
  },
  {
   "cell_type": "code",
   "execution_count": 54,
   "id": "aff9a97f",
   "metadata": {},
   "outputs": [
    {
     "data": {
      "text/plain": [
       "20"
      ]
     },
     "execution_count": 54,
     "metadata": {},
     "output_type": "execute_result"
    }
   ],
   "source": [
    "add_(10,10)"
   ]
  },
  {
   "cell_type": "code",
   "execution_count": 41,
   "id": "c4e3fbc8",
   "metadata": {},
   "outputs": [
    {
     "name": "stdout",
     "output_type": "stream",
     "text": [
      "<class 'str'>\n",
      "<class 'list'>\n",
      "['1', '2']\n"
     ]
    }
   ],
   "source": [
    "l = \"['1','2']\"\n",
    "print(type(l))\n",
    "ll = eval(l)\n",
    "print(type(ll))\n",
    "print(ll)"
   ]
  },
  {
   "cell_type": "code",
   "execution_count": 45,
   "id": "cdf65868",
   "metadata": {},
   "outputs": [
    {
     "data": {
      "text/plain": [
       "<function __main__.add_(x, y)>"
      ]
     },
     "execution_count": 45,
     "metadata": {},
     "output_type": "execute_result"
    }
   ],
   "source": [
    "globals()['add_']"
   ]
  },
  {
   "cell_type": "code",
   "execution_count": 48,
   "id": "65bb787d",
   "metadata": {},
   "outputs": [],
   "source": [
    "a = \"2>3\""
   ]
  },
  {
   "cell_type": "code",
   "execution_count": 49,
   "id": "a8d7f57b",
   "metadata": {},
   "outputs": [
    {
     "data": {
      "text/plain": [
       "False"
      ]
     },
     "execution_count": 49,
     "metadata": {},
     "output_type": "execute_result"
    }
   ],
   "source": [
    "eval(a)"
   ]
  },
  {
   "cell_type": "code",
   "execution_count": 64,
   "id": "e3a66b46",
   "metadata": {},
   "outputs": [],
   "source": [
    "k = range(0,1,5)"
   ]
  },
  {
   "cell_type": "code",
   "execution_count": 60,
   "id": "863ea016",
   "metadata": {},
   "outputs": [],
   "source": [
    "z = range(0,5,1)"
   ]
  },
  {
   "cell_type": "code",
   "execution_count": 65,
   "id": "359e27f5",
   "metadata": {},
   "outputs": [
    {
     "data": {
      "text/plain": [
       "range(0, 1, 5)"
      ]
     },
     "execution_count": 65,
     "metadata": {},
     "output_type": "execute_result"
    }
   ],
   "source": [
    "k"
   ]
  },
  {
   "cell_type": "code",
   "execution_count": 66,
   "id": "ab786556",
   "metadata": {},
   "outputs": [
    {
     "data": {
      "text/plain": [
       "range(0, 5)"
      ]
     },
     "execution_count": 66,
     "metadata": {},
     "output_type": "execute_result"
    }
   ],
   "source": [
    "z"
   ]
  },
  {
   "cell_type": "code",
   "execution_count": 70,
   "id": "5e5a9d13",
   "metadata": {},
   "outputs": [
    {
     "name": "stdout",
     "output_type": "stream",
     "text": [
      "0\n",
      "1\n",
      "2\n",
      "3\n",
      "4\n"
     ]
    }
   ],
   "source": [
    "for i in z :\n",
    "    print(i)"
   ]
  }
 ],
 "metadata": {
  "kernelspec": {
   "display_name": "Python 3",
   "language": "python",
   "name": "python3"
  },
  "language_info": {
   "codemirror_mode": {
    "name": "ipython",
    "version": 3
   },
   "file_extension": ".py",
   "mimetype": "text/x-python",
   "name": "python",
   "nbconvert_exporter": "python",
   "pygments_lexer": "ipython3",
   "version": "3.8.8"
  }
 },
 "nbformat": 4,
 "nbformat_minor": 5
}
