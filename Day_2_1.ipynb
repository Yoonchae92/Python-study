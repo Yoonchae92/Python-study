{
 "cells": [
  {
   "cell_type": "markdown",
   "id": "299206d6",
   "metadata": {},
   "source": [
    "## 정수 (int) xaxhed internal"
   ]
  },
  {
   "cell_type": "code",
   "execution_count": 1,
   "id": "9ab545c8",
   "metadata": {},
   "outputs": [
    {
     "data": {
      "text/plain": [
       "100"
      ]
     },
     "execution_count": 1,
     "metadata": {},
     "output_type": "execute_result"
    }
   ],
   "source": [
    "100"
   ]
  },
  {
   "cell_type": "markdown",
   "id": "2fbc8551",
   "metadata": {},
   "source": [
    "[-5, 256]범위의 정수는 인스턴스를 재생성하지 않는다"
   ]
  },
  {
   "cell_type": "code",
   "execution_count": 2,
   "id": "5d118d2b",
   "metadata": {},
   "outputs": [],
   "source": [
    "a = 256; b = 256; c=256"
   ]
  },
  {
   "cell_type": "code",
   "execution_count": 3,
   "id": "324b479d",
   "metadata": {},
   "outputs": [
    {
     "data": {
      "text/plain": [
       "True"
      ]
     },
     "execution_count": 3,
     "metadata": {},
     "output_type": "execute_result"
    }
   ],
   "source": [
    "a is b is c"
   ]
  },
  {
   "cell_type": "code",
   "execution_count": 4,
   "id": "c21f965a",
   "metadata": {},
   "outputs": [
    {
     "data": {
      "text/plain": [
       "(140733035923216, 140733035923216, 140733035923216)"
      ]
     },
     "execution_count": 4,
     "metadata": {},
     "output_type": "execute_result"
    }
   ],
   "source": [
    "id(a), id(b), id(c)"
   ]
  },
  {
   "cell_type": "code",
   "execution_count": 5,
   "id": "22954f21",
   "metadata": {},
   "outputs": [],
   "source": [
    "d = 257; e = 257; f =257"
   ]
  },
  {
   "cell_type": "code",
   "execution_count": 6,
   "id": "6b5939e4",
   "metadata": {},
   "outputs": [
    {
     "data": {
      "text/plain": [
       "False"
      ]
     },
     "execution_count": 6,
     "metadata": {},
     "output_type": "execute_result"
    }
   ],
   "source": [
    "d is e is f"
   ]
  },
  {
   "cell_type": "code",
   "execution_count": 7,
   "id": "f3e55fde",
   "metadata": {},
   "outputs": [
    {
     "data": {
      "text/plain": [
       "(2461323273936, 2461323273968, 2461323273872)"
      ]
     },
     "execution_count": 7,
     "metadata": {},
     "output_type": "execute_result"
    }
   ],
   "source": [
    "id(d), id(e), id(f)"
   ]
  },
  {
   "cell_type": "markdown",
   "id": "b3534f2e",
   "metadata": {},
   "source": [
    "## str 객체의 cached internal"
   ]
  },
  {
   "cell_type": "code",
   "execution_count": 9,
   "id": "93b72baf",
   "metadata": {},
   "outputs": [],
   "source": [
    "a = \"ab\"; b = \"ab\"; c = \"ab\""
   ]
  },
  {
   "cell_type": "code",
   "execution_count": 10,
   "id": "2bae12e7",
   "metadata": {},
   "outputs": [
    {
     "data": {
      "text/plain": [
       "True"
      ]
     },
     "execution_count": 10,
     "metadata": {},
     "output_type": "execute_result"
    }
   ],
   "source": [
    "a is b is c"
   ]
  },
  {
   "cell_type": "code",
   "execution_count": 11,
   "id": "da7aa084",
   "metadata": {},
   "outputs": [
    {
     "data": {
      "text/plain": [
       "(2461260277552, 2461260277552, 2461260277552)"
      ]
     },
     "execution_count": 11,
     "metadata": {},
     "output_type": "execute_result"
    }
   ],
   "source": [
    "id(a), id(b), id(c)"
   ]
  },
  {
   "cell_type": "code",
   "execution_count": 12,
   "id": "9f92e83b",
   "metadata": {},
   "outputs": [],
   "source": [
    "d = \"!!\"; e=\"!!\"; f= \"!!\""
   ]
  },
  {
   "cell_type": "code",
   "execution_count": 13,
   "id": "f80fbb6d",
   "metadata": {},
   "outputs": [
    {
     "data": {
      "text/plain": [
       "False"
      ]
     },
     "execution_count": 13,
     "metadata": {},
     "output_type": "execute_result"
    }
   ],
   "source": [
    "d is e is f"
   ]
  },
  {
   "cell_type": "code",
   "execution_count": 14,
   "id": "d0b3abf6",
   "metadata": {},
   "outputs": [
    {
     "data": {
      "text/plain": [
       "(2461323530736, 2461323530800, 2461323531056)"
      ]
     },
     "execution_count": 14,
     "metadata": {},
     "output_type": "execute_result"
    }
   ],
   "source": [
    "id(d), id(e), id(f)"
   ]
  },
  {
   "cell_type": "markdown",
   "id": "e81c97f4",
   "metadata": {},
   "source": [
    "# 함수"
   ]
  },
  {
   "cell_type": "markdown",
   "id": "ee62606f",
   "metadata": {},
   "source": [
    "반복되는 코드의 중복을 방지하기 위한 하나의 코드 블록을 이야기한다.  \n",
    "정의를 먼저 진행하고, 이 함수의 이름을 호출해서 사용한다. ( () )  \n",
    "순수함수, 비순수함수  \n",
    "순수함수 : 입력을 받아서 출력을 처리해서 전달해주는 함수 ( ex: f(x)=y )  \n",
    "비순수함수: 함수 내의 기능의 외부의 변수나 객체를 호출한다음에 상태를 바꿔주는 함수 (es: f(x))"
   ]
  },
  {
   "cell_type": "code",
   "execution_count": 15,
   "id": "ee2ef4c5",
   "metadata": {},
   "outputs": [],
   "source": [
    "def soonsu(a, b):\n",
    "    return a+b"
   ]
  },
  {
   "cell_type": "code",
   "execution_count": 31,
   "id": "5ff96247",
   "metadata": {},
   "outputs": [],
   "source": [
    "c = 0\n",
    "def bisoonsu(a, b):\n",
    "    globals()['c'] = a+b"
   ]
  },
  {
   "cell_type": "code",
   "execution_count": 33,
   "id": "cab423a9",
   "metadata": {},
   "outputs": [],
   "source": [
    "d = soonsu(10,10)"
   ]
  },
  {
   "cell_type": "code",
   "execution_count": 34,
   "id": "7315b015",
   "metadata": {},
   "outputs": [
    {
     "data": {
      "text/plain": [
       "20"
      ]
     },
     "execution_count": 34,
     "metadata": {},
     "output_type": "execute_result"
    }
   ],
   "source": [
    "d"
   ]
  },
  {
   "cell_type": "code",
   "execution_count": 35,
   "id": "4e30f8a9",
   "metadata": {},
   "outputs": [
    {
     "data": {
      "text/plain": [
       "int"
      ]
     },
     "execution_count": 35,
     "metadata": {},
     "output_type": "execute_result"
    }
   ],
   "source": [
    "type(d)"
   ]
  },
  {
   "cell_type": "code",
   "execution_count": 36,
   "id": "ed0fd964",
   "metadata": {},
   "outputs": [],
   "source": [
    "e = bisoonsu(10,20)"
   ]
  },
  {
   "cell_type": "code",
   "execution_count": 37,
   "id": "8f2092cc",
   "metadata": {},
   "outputs": [],
   "source": [
    "e"
   ]
  },
  {
   "cell_type": "code",
   "execution_count": 38,
   "id": "1cf458c2",
   "metadata": {},
   "outputs": [
    {
     "data": {
      "text/plain": [
       "NoneType"
      ]
     },
     "execution_count": 38,
     "metadata": {},
     "output_type": "execute_result"
    }
   ],
   "source": [
    "type(e)"
   ]
  },
  {
   "cell_type": "code",
   "execution_count": 40,
   "id": "98dfa25c",
   "metadata": {},
   "outputs": [
    {
     "data": {
      "text/plain": [
       "30"
      ]
     },
     "execution_count": 40,
     "metadata": {},
     "output_type": "execute_result"
    }
   ],
   "source": [
    "c"
   ]
  },
  {
   "cell_type": "markdown",
   "id": "c4fa3723",
   "metadata": {},
   "source": [
    "## 1. 함수 정의\n",
    "### 함수 정의문\n",
    "- 함수는 콜론(:)을 기준으로 좌측에는 헤더부(Header)이고, 우측이나 아래는 몸체부(Body).\n",
    "- 헤더부 : 함수명과 매개변수(parameter)\n",
    "- 몸체부 : 로직과 return처리\n",
    "\n",
    ">daf 키워드+함수명(매개변수):  \n",
    "  로직  \n",
    "  return  "
   ]
  },
  {
   "cell_type": "code",
   "execution_count": 46,
   "id": "4007ae43",
   "metadata": {},
   "outputs": [],
   "source": [
    "def add(x, y):\n",
    "    result = x+y\n",
    "    return result"
   ]
  },
  {
   "cell_type": "code",
   "execution_count": 47,
   "id": "800e1992",
   "metadata": {},
   "outputs": [
    {
     "data": {
      "text/plain": [
       "5"
      ]
     },
     "execution_count": 47,
     "metadata": {},
     "output_type": "execute_result"
    }
   ],
   "source": [
    "add(2,3)"
   ]
  },
  {
   "cell_type": "code",
   "execution_count": 48,
   "id": "1f293c2f",
   "metadata": {},
   "outputs": [
    {
     "data": {
      "text/plain": [
       "<function __main__.add(x, y)>"
      ]
     },
     "execution_count": 48,
     "metadata": {},
     "output_type": "execute_result"
    }
   ],
   "source": [
    "add"
   ]
  },
  {
   "cell_type": "code",
   "execution_count": 49,
   "id": "7a0be1e8",
   "metadata": {},
   "outputs": [
    {
     "data": {
      "text/plain": [
       "True"
      ]
     },
     "execution_count": 49,
     "metadata": {},
     "output_type": "execute_result"
    }
   ],
   "source": [
    "callable(add)"
   ]
  },
  {
   "cell_type": "code",
   "execution_count": 50,
   "id": "8128de44",
   "metadata": {},
   "outputs": [],
   "source": [
    "a =100"
   ]
  },
  {
   "cell_type": "code",
   "execution_count": 51,
   "id": "15601c3b",
   "metadata": {},
   "outputs": [
    {
     "data": {
      "text/plain": [
       "False"
      ]
     },
     "execution_count": 51,
     "metadata": {},
     "output_type": "execute_result"
    }
   ],
   "source": [
    "callable(a)"
   ]
  },
  {
   "cell_type": "code",
   "execution_count": 52,
   "id": "430badce",
   "metadata": {},
   "outputs": [
    {
     "name": "stdout",
     "output_type": "stream",
     "text": [
      "['__annotations__', '__call__', '__class__', '__closure__', '__code__', '__defaults__', '__delattr__', '__dict__', '__dir__', '__doc__', '__eq__', '__format__', '__ge__', '__get__', '__getattribute__', '__globals__', '__gt__', '__hash__', '__init__', '__init_subclass__', '__kwdefaults__', '__le__', '__lt__', '__module__', '__name__', '__ne__', '__new__', '__qualname__', '__reduce__', '__reduce_ex__', '__repr__', '__setattr__', '__sizeof__', '__str__', '__subclasshook__']\n"
     ]
    }
   ],
   "source": [
    "print(dir(add))"
   ]
  },
  {
   "cell_type": "markdown",
   "id": "804ba9e7",
   "metadata": {},
   "source": [
    "### 함수 호출을 위해 호출연산자 사용\n",
    "- 함수이름 다음에 괄호 즉! 함수호출연산자를 사용한다.  \n",
    "- 함수에 매개변수가 있으며, 해당하는 값이 인자를 전달해야 한다."
   ]
  },
  {
   "cell_type": "code",
   "execution_count": 53,
   "id": "5fc58626",
   "metadata": {},
   "outputs": [
    {
     "data": {
      "text/plain": [
       "7"
      ]
     },
     "execution_count": 53,
     "metadata": {},
     "output_type": "execute_result"
    }
   ],
   "source": [
    "add(2,5)"
   ]
  },
  {
   "cell_type": "code",
   "execution_count": 55,
   "id": "4d9709ca",
   "metadata": {},
   "outputs": [
    {
     "data": {
      "text/plain": [
       "7"
      ]
     },
     "execution_count": 55,
     "metadata": {},
     "output_type": "execute_result"
    }
   ],
   "source": [
    "add.__call__(2,5)"
   ]
  },
  {
   "cell_type": "markdown",
   "id": "4cda710f",
   "metadata": {},
   "source": [
    "## 함수와 메소드의 차이점"
   ]
  },
  {
   "cell_type": "code",
   "execution_count": 56,
   "id": "bce28a97",
   "metadata": {},
   "outputs": [],
   "source": [
    "def add(a,b):\n",
    "    return a+b"
   ]
  },
  {
   "cell_type": "code",
   "execution_count": 57,
   "id": "825ebb98",
   "metadata": {},
   "outputs": [
    {
     "data": {
      "text/plain": [
       "<function __main__.add(a, b)>"
      ]
     },
     "execution_count": 57,
     "metadata": {},
     "output_type": "execute_result"
    }
   ],
   "source": [
    "add"
   ]
  },
  {
   "cell_type": "code",
   "execution_count": 58,
   "id": "1bbd9b82",
   "metadata": {},
   "outputs": [],
   "source": [
    "class A:\n",
    "    def add(self, a,b):\n",
    "        return a+b+b"
   ]
  },
  {
   "cell_type": "code",
   "execution_count": 59,
   "id": "2e22fb1e",
   "metadata": {},
   "outputs": [
    {
     "data": {
      "text/plain": [
       "20"
      ]
     },
     "execution_count": 59,
     "metadata": {},
     "output_type": "execute_result"
    }
   ],
   "source": [
    "add(10,10)"
   ]
  },
  {
   "cell_type": "code",
   "execution_count": 60,
   "id": "a7e0877d",
   "metadata": {},
   "outputs": [],
   "source": [
    "b = A()"
   ]
  },
  {
   "cell_type": "code",
   "execution_count": 61,
   "id": "fb8312e0",
   "metadata": {},
   "outputs": [
    {
     "data": {
      "text/plain": [
       "<__main__.A at 0x23d124fd0a0>"
      ]
     },
     "execution_count": 61,
     "metadata": {},
     "output_type": "execute_result"
    }
   ],
   "source": [
    "b"
   ]
  },
  {
   "cell_type": "code",
   "execution_count": 62,
   "id": "8c2197b7",
   "metadata": {},
   "outputs": [
    {
     "name": "stdout",
     "output_type": "stream",
     "text": [
      "['__class__', '__delattr__', '__dict__', '__dir__', '__doc__', '__eq__', '__format__', '__ge__', '__getattribute__', '__gt__', '__hash__', '__init__', '__init_subclass__', '__le__', '__lt__', '__module__', '__ne__', '__new__', '__reduce__', '__reduce_ex__', '__repr__', '__setattr__', '__sizeof__', '__str__', '__subclasshook__', '__weakref__', 'add']\n"
     ]
    }
   ],
   "source": [
    "print(dir(b))"
   ]
  },
  {
   "cell_type": "code",
   "execution_count": 63,
   "id": "3070e41e",
   "metadata": {},
   "outputs": [
    {
     "data": {
      "text/plain": [
       "<bound method A.add of <__main__.A object at 0x0000023D124FD0A0>>"
      ]
     },
     "execution_count": 63,
     "metadata": {},
     "output_type": "execute_result"
    }
   ],
   "source": [
    "b.add"
   ]
  },
  {
   "cell_type": "code",
   "execution_count": 64,
   "id": "382f6afd",
   "metadata": {},
   "outputs": [
    {
     "data": {
      "text/plain": [
       "30"
      ]
     },
     "execution_count": 64,
     "metadata": {},
     "output_type": "execute_result"
    }
   ],
   "source": [
    "b.add(10,10)"
   ]
  },
  {
   "cell_type": "code",
   "execution_count": 68,
   "id": "e4cfb38d",
   "metadata": {},
   "outputs": [
    {
     "data": {
      "text/plain": [
       "<function __main__.A.add(self, a, b)>"
      ]
     },
     "execution_count": 68,
     "metadata": {},
     "output_type": "execute_result"
    }
   ],
   "source": [
    "A.add"
   ]
  },
  {
   "cell_type": "markdown",
   "id": "57a1905e",
   "metadata": {},
   "source": [
    "### 일반 로직과 함수 처리 비교\n",
    "일반로직 : 한번을 처리할 때 일반적인 로직으로 처리  \n",
    "동일한 로직을 여러 번 사용할 때는 함수로 정의해서 사용 가능"
   ]
  },
  {
   "cell_type": "code",
   "execution_count": 69,
   "id": "658ffb96",
   "metadata": {},
   "outputs": [
    {
     "name": "stdout",
     "output_type": "stream",
     "text": [
      "45\n"
     ]
    }
   ],
   "source": [
    "a = 0\n",
    "for data in range(0,10):\n",
    "    a += data\n",
    "    \n",
    "print(a)"
   ]
  },
  {
   "cell_type": "code",
   "execution_count": 72,
   "id": "5507f65b",
   "metadata": {},
   "outputs": [],
   "source": [
    "def add_function(a):\n",
    "    for data in range(0,10):\n",
    "        a += data\n",
    "        \n",
    "    return a"
   ]
  },
  {
   "cell_type": "code",
   "execution_count": 73,
   "id": "d4878aa6",
   "metadata": {},
   "outputs": [
    {
     "data": {
      "text/plain": [
       "90"
      ]
     },
     "execution_count": 73,
     "metadata": {},
     "output_type": "execute_result"
    }
   ],
   "source": [
    "add_function(a)"
   ]
  },
  {
   "cell_type": "code",
   "execution_count": 75,
   "id": "7675b91e",
   "metadata": {},
   "outputs": [
    {
     "data": {
      "text/plain": [
       "<function __main__.add_function(a)>"
      ]
     },
     "execution_count": 75,
     "metadata": {},
     "output_type": "execute_result"
    }
   ],
   "source": [
    "add_function"
   ]
  },
  {
   "cell_type": "code",
   "execution_count": 76,
   "id": "b15c0f45",
   "metadata": {},
   "outputs": [
    {
     "data": {
      "text/plain": [
       "90"
      ]
     },
     "execution_count": 76,
     "metadata": {},
     "output_type": "execute_result"
    }
   ],
   "source": [
    "globals()['add_function'](a)"
   ]
  },
  {
   "cell_type": "code",
   "execution_count": 77,
   "id": "385bc829",
   "metadata": {},
   "outputs": [
    {
     "data": {
      "text/plain": [
       "45"
      ]
     },
     "execution_count": 77,
     "metadata": {},
     "output_type": "execute_result"
    }
   ],
   "source": [
    "a"
   ]
  },
  {
   "cell_type": "code",
   "execution_count": 78,
   "id": "8296ee27",
   "metadata": {},
   "outputs": [
    {
     "data": {
      "text/plain": [
       "45"
      ]
     },
     "execution_count": 78,
     "metadata": {},
     "output_type": "execute_result"
    }
   ],
   "source": [
    "globals()['a']"
   ]
  },
  {
   "cell_type": "code",
   "execution_count": 79,
   "id": "e33fd276",
   "metadata": {},
   "outputs": [],
   "source": [
    "add_function_ = add_function"
   ]
  },
  {
   "cell_type": "code",
   "execution_count": 80,
   "id": "10cadd89",
   "metadata": {},
   "outputs": [
    {
     "data": {
      "text/plain": [
       "90"
      ]
     },
     "execution_count": 80,
     "metadata": {},
     "output_type": "execute_result"
    }
   ],
   "source": [
    "add_function_(a)"
   ]
  },
  {
   "cell_type": "code",
   "execution_count": 82,
   "id": "a3b41cc0",
   "metadata": {},
   "outputs": [
    {
     "data": {
      "text/plain": [
       "'add_function'"
      ]
     },
     "execution_count": 82,
     "metadata": {},
     "output_type": "execute_result"
    }
   ],
   "source": [
    "add_function.__name__"
   ]
  },
  {
   "cell_type": "code",
   "execution_count": 83,
   "id": "a20e502c",
   "metadata": {},
   "outputs": [
    {
     "data": {
      "text/plain": [
       "function"
      ]
     },
     "execution_count": 83,
     "metadata": {},
     "output_type": "execute_result"
    }
   ],
   "source": [
    "type(add_function)"
   ]
  },
  {
   "cell_type": "code",
   "execution_count": 84,
   "id": "d99d39bd",
   "metadata": {},
   "outputs": [
    {
     "data": {
      "text/plain": [
       "function"
      ]
     },
     "execution_count": 84,
     "metadata": {},
     "output_type": "execute_result"
    }
   ],
   "source": [
    "add_function.__class__"
   ]
  },
  {
   "cell_type": "markdown",
   "id": "70fcab0b",
   "metadata": {},
   "source": [
    "## 매개변수\n",
    "-컴퓨터 프로그래밍에서 매개변수(영어: parameter 파라미터)란 변수의 특별한 한 종류로서, 함수 등과 같은 서브루틴의 인풋으로 제공되는 여러 데이터 중 하나를 가리키기 위해 사용된다. 여기서 서브루틴의 인풋으로 제공되는 여러 데이터들을 전달인자(argument) 라고 부른다."
   ]
  },
  {
   "cell_type": "code",
   "execution_count": 98,
   "id": "e03b33f7",
   "metadata": {},
   "outputs": [],
   "source": [
    "def add(a:int,b:int):\n",
    "    if type(a) == int and type(b) == int:\n",
    "        return a+b\n",
    "    else:\n",
    "        print(\"a의 매개변수 값을 수정해주세요. ( int만 가능합니다 )\")\n",
    "        return None"
   ]
  },
  {
   "cell_type": "code",
   "execution_count": 95,
   "id": "d014d285",
   "metadata": {},
   "outputs": [
    {
     "data": {
      "text/plain": [
       "{'a': int, 'b': int}"
      ]
     },
     "execution_count": 95,
     "metadata": {},
     "output_type": "execute_result"
    }
   ],
   "source": [
    "add.__annotations__"
   ]
  },
  {
   "cell_type": "code",
   "execution_count": 99,
   "id": "6e95b5b4",
   "metadata": {},
   "outputs": [
    {
     "data": {
      "text/plain": [
       "5"
      ]
     },
     "execution_count": 99,
     "metadata": {},
     "output_type": "execute_result"
    }
   ],
   "source": [
    "add(3,2)"
   ]
  },
  {
   "cell_type": "code",
   "execution_count": 101,
   "id": "be8eaf27",
   "metadata": {},
   "outputs": [
    {
     "name": "stdout",
     "output_type": "stream",
     "text": [
      "a의 매개변수 값을 수정해주세요. ( int만 가능합니다 )\n"
     ]
    }
   ],
   "source": [
    "add('2',3)"
   ]
  },
  {
   "cell_type": "code",
   "execution_count": 102,
   "id": "28f7a561",
   "metadata": {},
   "outputs": [
    {
     "name": "stdout",
     "output_type": "stream",
     "text": [
      "!\n"
     ]
    }
   ],
   "source": [
    "b = print(\"!\")"
   ]
  },
  {
   "cell_type": "code",
   "execution_count": 103,
   "id": "c2143615",
   "metadata": {},
   "outputs": [],
   "source": [
    "b"
   ]
  },
  {
   "cell_type": "code",
   "execution_count": 104,
   "id": "73d536bb",
   "metadata": {
    "scrolled": true
   },
   "outputs": [
    {
     "data": {
      "text/plain": [
       "NoneType"
      ]
     },
     "execution_count": 104,
     "metadata": {},
     "output_type": "execute_result"
    }
   ],
   "source": [
    "type(b)"
   ]
  },
  {
   "cell_type": "code",
   "execution_count": 186,
   "id": "dc8b54d2",
   "metadata": {},
   "outputs": [],
   "source": [
    "class Calculate:\n",
    "    \"\"\"\"\n",
    "    계산기 클래스입니다.\n",
    "    \"\"\"\n",
    "    result = 0\n",
    "    def add(self,a:int):\n",
    "        if type(a) == int or type(a) == float:\n",
    "            self.result += a\n",
    "        else:\n",
    "            print(\"올바른 숫자를 입력하세요\")\n",
    "    def minus(self,a:int):\n",
    "        if type(a) == int or type(a) == float:\n",
    "             self.result-=a\n",
    "        else:\n",
    "            print(\"올바른 숫자를 입력하세요\")\n",
    "    def times(self,a:int):\n",
    "        if type(a) == int or type(a) == float:\n",
    "             self.result*=a\n",
    "        else:\n",
    "            print(\"올바른 숫자를 입력하세요\")\n",
    "    def divide(self,a:int):\n",
    "        if type(a) == int or type(a) == float:\n",
    "             self.result/=a\n",
    "        else:\n",
    "            print(\"올바른 숫자를 입력하세요\")\n",
    "    def ac(self):\n",
    "        self.result = 0"
   ]
  },
  {
   "cell_type": "code",
   "execution_count": 187,
   "id": "ab8a9e93",
   "metadata": {},
   "outputs": [],
   "source": [
    "cal = Calculate()"
   ]
  },
  {
   "cell_type": "code",
   "execution_count": 193,
   "id": "a07c480d",
   "metadata": {},
   "outputs": [
    {
     "name": "stdout",
     "output_type": "stream",
     "text": [
      "올바른 숫자를 입력하세요\n"
     ]
    }
   ],
   "source": [
    "cal.add('1.23')"
   ]
  },
  {
   "cell_type": "code",
   "execution_count": 192,
   "id": "ccbbe206",
   "metadata": {},
   "outputs": [
    {
     "data": {
      "text/plain": [
       "1.23"
      ]
     },
     "execution_count": 192,
     "metadata": {},
     "output_type": "execute_result"
    }
   ],
   "source": [
    "cal.result"
   ]
  },
  {
   "cell_type": "code",
   "execution_count": 190,
   "id": "2a64c82d",
   "metadata": {},
   "outputs": [],
   "source": [
    "cal.ac()"
   ]
  },
  {
   "cell_type": "code",
   "execution_count": 162,
   "id": "bc04539f",
   "metadata": {},
   "outputs": [
    {
     "data": {
      "text/plain": [
       "0"
      ]
     },
     "execution_count": 162,
     "metadata": {},
     "output_type": "execute_result"
    }
   ],
   "source": [
    "cal.result"
   ]
  },
  {
   "cell_type": "code",
   "execution_count": 201,
   "id": "b9a683a5",
   "metadata": {},
   "outputs": [],
   "source": [
    "def add(x, y):\n",
    "    \"\"\"\"\n",
    "    add함수\n",
    "    - 정수 혹은 숫자 자료형 x, y의 더한 결과값을 리턴합니다.\n",
    "    \"\"\"\n",
    "    return x+y"
   ]
  },
  {
   "cell_type": "code",
   "execution_count": 202,
   "id": "95eb6779",
   "metadata": {},
   "outputs": [
    {
     "name": "stdout",
     "output_type": "stream",
     "text": [
      "Help on function add in module __main__:\n",
      "\n",
      "add(x, y)\n",
      "    \"\n",
      "    add함수\n",
      "    - 정수 혹은 숫자 자료형 x, y의 더한 결과값을 리턴합니다.\n",
      "\n"
     ]
    }
   ],
   "source": [
    "help(add)"
   ]
  },
  {
   "cell_type": "code",
   "execution_count": 203,
   "id": "63ccc77e",
   "metadata": {},
   "outputs": [
    {
     "data": {
      "text/plain": [
       "'\"\\n    add함수\\n    - 정수 혹은 숫자 자료형 x, y의 더한 결과값을 리턴합니다.\\n    '"
      ]
     },
     "execution_count": 203,
     "metadata": {},
     "output_type": "execute_result"
    }
   ],
   "source": [
    "add.__doc__"
   ]
  },
  {
   "cell_type": "code",
   "execution_count": 204,
   "id": "9a6caa29",
   "metadata": {},
   "outputs": [],
   "source": [
    "def add(x:int, y:int) -> int:\n",
    "    return x+y"
   ]
  },
  {
   "cell_type": "code",
   "execution_count": 205,
   "id": "b51df5fd",
   "metadata": {},
   "outputs": [
    {
     "data": {
      "text/plain": [
       "'12'"
      ]
     },
     "execution_count": 205,
     "metadata": {},
     "output_type": "execute_result"
    }
   ],
   "source": [
    "add(\"1\",\"2\")"
   ]
  },
  {
   "cell_type": "code",
   "execution_count": 206,
   "id": "d31f2c01",
   "metadata": {},
   "outputs": [],
   "source": [
    "import inspect"
   ]
  },
  {
   "cell_type": "code",
   "execution_count": 208,
   "id": "769266ef",
   "metadata": {},
   "outputs": [
    {
     "data": {
      "text/plain": [
       "FullArgSpec(args=['x', 'y'], varargs=None, varkw=None, defaults=None, kwonlyargs=[], kwonlydefaults=None, annotations={'return': <class 'int'>, 'x': <class 'int'>, 'y': <class 'int'>})"
      ]
     },
     "execution_count": 208,
     "metadata": {},
     "output_type": "execute_result"
    }
   ],
   "source": [
    "inspect.getfullargspec(add)"
   ]
  },
  {
   "cell_type": "markdown",
   "id": "3b9c0653",
   "metadata": {},
   "source": [
    "# 여러 parameter가 필요한 경우"
   ]
  },
  {
   "cell_type": "markdown",
   "id": "1bc245dd",
   "metadata": {},
   "source": [
    "### 가변인자처리\n",
    "- 여러개의 인자를 하나로 묶어서 처리\n",
    "- 함수를 정의할 때 가변인자가 들어가는 매개변수를 args라는 이름으로 지정하고 그 앞에 별을 붙여서 사용한다."
   ]
  },
  {
   "cell_type": "code",
   "execution_count": 224,
   "id": "ec9c672e",
   "metadata": {},
   "outputs": [],
   "source": [
    "def sum_all(*args):\n",
    "    print(args)\n",
    "    print(type(args))\n",
    "    l = tuple(args)\n",
    "    l[0]=100\n",
    "    print(l)\n",
    "    return sum(l)"
   ]
  },
  {
   "cell_type": "code",
   "execution_count": 225,
   "id": "0cbae023",
   "metadata": {},
   "outputs": [
    {
     "name": "stdout",
     "output_type": "stream",
     "text": [
      "(1, 2)\n",
      "<class 'tuple'>\n"
     ]
    },
    {
     "ename": "TypeError",
     "evalue": "'tuple' object does not support item assignment",
     "output_type": "error",
     "traceback": [
      "\u001b[1;31m---------------------------------------------------------------------------\u001b[0m",
      "\u001b[1;31mTypeError\u001b[0m                                 Traceback (most recent call last)",
      "\u001b[1;32m<ipython-input-225-55b911c1cf4f>\u001b[0m in \u001b[0;36m<module>\u001b[1;34m\u001b[0m\n\u001b[1;32m----> 1\u001b[1;33m \u001b[0msum_all\u001b[0m\u001b[1;33m(\u001b[0m\u001b[1;36m1\u001b[0m\u001b[1;33m,\u001b[0m\u001b[1;36m2\u001b[0m\u001b[1;33m)\u001b[0m\u001b[1;33m\u001b[0m\u001b[1;33m\u001b[0m\u001b[0m\n\u001b[0m",
      "\u001b[1;32m<ipython-input-224-2283d832e239>\u001b[0m in \u001b[0;36msum_all\u001b[1;34m(*args)\u001b[0m\n\u001b[0;32m      3\u001b[0m     \u001b[0mprint\u001b[0m\u001b[1;33m(\u001b[0m\u001b[0mtype\u001b[0m\u001b[1;33m(\u001b[0m\u001b[0margs\u001b[0m\u001b[1;33m)\u001b[0m\u001b[1;33m)\u001b[0m\u001b[1;33m\u001b[0m\u001b[1;33m\u001b[0m\u001b[0m\n\u001b[0;32m      4\u001b[0m     \u001b[0ml\u001b[0m \u001b[1;33m=\u001b[0m \u001b[0mtuple\u001b[0m\u001b[1;33m(\u001b[0m\u001b[0margs\u001b[0m\u001b[1;33m)\u001b[0m\u001b[1;33m\u001b[0m\u001b[1;33m\u001b[0m\u001b[0m\n\u001b[1;32m----> 5\u001b[1;33m     \u001b[0ml\u001b[0m\u001b[1;33m[\u001b[0m\u001b[1;36m0\u001b[0m\u001b[1;33m]\u001b[0m\u001b[1;33m=\u001b[0m\u001b[1;36m100\u001b[0m\u001b[1;33m\u001b[0m\u001b[1;33m\u001b[0m\u001b[0m\n\u001b[0m\u001b[0;32m      6\u001b[0m     \u001b[0mprint\u001b[0m\u001b[1;33m(\u001b[0m\u001b[0ml\u001b[0m\u001b[1;33m)\u001b[0m\u001b[1;33m\u001b[0m\u001b[1;33m\u001b[0m\u001b[0m\n\u001b[0;32m      7\u001b[0m     \u001b[1;32mreturn\u001b[0m \u001b[0msum\u001b[0m\u001b[1;33m(\u001b[0m\u001b[0ml\u001b[0m\u001b[1;33m)\u001b[0m\u001b[1;33m\u001b[0m\u001b[1;33m\u001b[0m\u001b[0m\n",
      "\u001b[1;31mTypeError\u001b[0m: 'tuple' object does not support item assignment"
     ]
    }
   ],
   "source": [
    "sum_all(1,2)"
   ]
  },
  {
   "cell_type": "markdown",
   "id": "82c1384c",
   "metadata": {},
   "source": [
    "## 가변키워드인자\n",
    "-이름과 값을 나열해서 지정할 수 있다.  \n",
    "-가변인자 다음에 가변키워드인자를 넣어서 사용해야함."
   ]
  },
  {
   "cell_type": "code",
   "execution_count": 226,
   "id": "d42ecded",
   "metadata": {},
   "outputs": [],
   "source": [
    "def kwargs_function(**kwargs):\n",
    "    print(kwargs)\n",
    "    print(type(kwargs))"
   ]
  },
  {
   "cell_type": "code",
   "execution_count": 227,
   "id": "4db11e92",
   "metadata": {},
   "outputs": [
    {
     "name": "stdout",
     "output_type": "stream",
     "text": [
      "{'a': 1, 'b': '2', 'c': None, 'asdf': '234'}\n",
      "<class 'dict'>\n"
     ]
    }
   ],
   "source": [
    "kwargs_function(a=1, b='2', c=None, asdf='234')"
   ]
  },
  {
   "cell_type": "code",
   "execution_count": 228,
   "id": "0c3228af",
   "metadata": {},
   "outputs": [],
   "source": [
    "def args_kwargs_function(*args,**kwargs):\n",
    "    print(args)\n",
    "    print(type(args))\n",
    "    print(kwargs)\n",
    "    print(type(kwargs))"
   ]
  },
  {
   "cell_type": "code",
   "execution_count": 235,
   "id": "072e8816",
   "metadata": {},
   "outputs": [
    {
     "name": "stdout",
     "output_type": "stream",
     "text": [
      "(1, 2, 3)\n",
      "<class 'tuple'>\n",
      "{'c': 3, 'd': None}\n",
      "<class 'dict'>\n"
     ]
    }
   ],
   "source": [
    "args_kwargs_function(1,2,3,c=3, d=None)"
   ]
  },
  {
   "cell_type": "code",
   "execution_count": 233,
   "id": "5e328459",
   "metadata": {},
   "outputs": [],
   "source": [
    "def basic_parameter_args_kwargs_function(a,b,*args,**kwargs):\n",
    "    print(args)\n",
    "    print(type(args))\n",
    "    \n",
    "    print(kwargs)\n",
    "    print(type(kwargs))\n",
    "    \n",
    "    print(a)\n",
    "    print(b)"
   ]
  },
  {
   "cell_type": "code",
   "execution_count": 234,
   "id": "881c8b8f",
   "metadata": {},
   "outputs": [
    {
     "name": "stdout",
     "output_type": "stream",
     "text": [
      "(1, 2, 3, 4)\n",
      "<class 'tuple'>\n",
      "{'c': 30, 'd': 40}\n",
      "<class 'dict'>\n",
      "10\n",
      "20\n"
     ]
    }
   ],
   "source": [
    "basic_parameter_args_kwargs_function(10,20,1,2,3,4, c= 30, d=40)"
   ]
  },
  {
   "cell_type": "markdown",
   "id": "4b606b50",
   "metadata": {},
   "source": [
    "### *args 내가 원하는 구구단 단수만 입력받아서 출력하는 함수 제작 gugudan(2,5,7)"
   ]
  },
  {
   "cell_type": "code",
   "execution_count": 265,
   "id": "8b08eced",
   "metadata": {},
   "outputs": [],
   "source": [
    "def gugudan(*args,**yoons):\n",
    "    for a in args:\n",
    "        print(f'{a}단')\n",
    "        for n in range (1,10):\n",
    "            print(f'{a} * {n}= {a*n}')\n",
    "            \n",
    "    for k in yoons:\n",
    "        dan = yoons[k]\n",
    "        print(f'{dan}단')\n",
    "        for n in range(1,10):\n",
    "            print(f'{dan} * {n} = {dan*n}')"
   ]
  },
  {
   "cell_type": "code",
   "execution_count": 268,
   "id": "590d03db",
   "metadata": {},
   "outputs": [
    {
     "name": "stdout",
     "output_type": "stream",
     "text": [
      "2단\n",
      "2 * 1= 2\n",
      "2 * 2= 4\n",
      "2 * 3= 6\n",
      "2 * 4= 8\n",
      "2 * 5= 10\n",
      "2 * 6= 12\n",
      "2 * 7= 14\n",
      "2 * 8= 16\n",
      "2 * 9= 18\n",
      "5단\n",
      "5 * 1= 5\n",
      "5 * 2= 10\n",
      "5 * 3= 15\n",
      "5 * 4= 20\n",
      "5 * 5= 25\n",
      "5 * 6= 30\n",
      "5 * 7= 35\n",
      "5 * 8= 40\n",
      "5 * 9= 45\n",
      "7단\n",
      "7 * 1= 7\n",
      "7 * 2= 14\n",
      "7 * 3= 21\n",
      "7 * 4= 28\n",
      "7 * 5= 35\n",
      "7 * 6= 42\n",
      "7 * 7= 49\n",
      "7 * 8= 56\n",
      "7 * 9= 63\n",
      "7단\n",
      "7 * 1 = 7\n",
      "7 * 2 = 14\n",
      "7 * 3 = 21\n",
      "7 * 4 = 28\n",
      "7 * 5 = 35\n",
      "7 * 6 = 42\n",
      "7 * 7 = 49\n",
      "7 * 8 = 56\n",
      "7 * 9 = 63\n",
      "9단\n",
      "9 * 1 = 9\n",
      "9 * 2 = 18\n",
      "9 * 3 = 27\n",
      "9 * 4 = 36\n",
      "9 * 5 = 45\n",
      "9 * 6 = 54\n",
      "9 * 7 = 63\n",
      "9 * 8 = 72\n",
      "9 * 9 = 81\n"
     ]
    }
   ],
   "source": [
    "gugudan(2,5,7,바보=7,nine=9)"
   ]
  },
  {
   "cell_type": "markdown",
   "id": "ffa72957",
   "metadata": {},
   "source": [
    "## 함수 내에 함수 정의: 로컬 함수"
   ]
  },
  {
   "cell_type": "markdown",
   "id": "6229720e",
   "metadata": {},
   "source": [
    "- 각 함수 정의별로 그 안에 지역변수가 만들어지므로 (locals()) 해당 이름공간도 같이 만들어집니다.\n",
    "- 함수 내부의 로직들을 블럭인 함수로 지정해서 재사용 용도로 구성할 수 있음."
   ]
  },
  {
   "cell_type": "code",
   "execution_count": 274,
   "id": "5cae426c",
   "metadata": {},
   "outputs": [],
   "source": [
    "def outer(a):\n",
    "    \n",
    "    def inner(b):\n",
    "        b+=2\n",
    "        print(f'inner 함수{ locals() }')\n",
    "        return b\n",
    "    a += 1\n",
    "    print(f'outer 함수 {locals()}')\n",
    "    \n",
    "    for data in range(1,3):\n",
    "        inner(a)"
   ]
  },
  {
   "cell_type": "code",
   "execution_count": 273,
   "id": "c0b4cfe0",
   "metadata": {},
   "outputs": [
    {
     "name": "stdout",
     "output_type": "stream",
     "text": [
      "outer 함수 {'a': 101, 'inner': <function outer.<locals>.inner at 0x0000023D134870D0>}\n",
      "inner 함수{'b': 103}\n",
      "inner 함수{'b': 103}\n"
     ]
    }
   ],
   "source": [
    "outer(100)"
   ]
  },
  {
   "cell_type": "markdown",
   "id": "d9a35abe",
   "metadata": {},
   "source": [
    "# Git (Code Repository)"
   ]
  },
  {
   "cell_type": "markdown",
   "id": "92b625ae",
   "metadata": {},
   "source": [
    "1. GitHub,Bitbucket,GitLab 가입\n",
    "2. Repository 생성\n",
    "3. clone\n",
    "\n",
    "- git clone https//나의RepositoryURL(폴더명)\n",
    "\n",
    "4.여러가지 작업을 진행...\n",
    "5.작업물을 올릴때 하는 명령어들\n",
    "\n",
    "- git add( => local 어떤 파일들, 어떤 것들을 올릴지 결정하는)\n",
    "\n",
    "  "
   ]
  }
 ],
 "metadata": {
  "kernelspec": {
   "display_name": "Python 3",
   "language": "python",
   "name": "python3"
  },
  "language_info": {
   "codemirror_mode": {
    "name": "ipython",
    "version": 3
   },
   "file_extension": ".py",
   "mimetype": "text/x-python",
   "name": "python",
   "nbconvert_exporter": "python",
   "pygments_lexer": "ipython3",
   "version": "3.8.8"
  }
 },
 "nbformat": 4,
 "nbformat_minor": 5
}
