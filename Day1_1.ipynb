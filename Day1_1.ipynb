{
 "cells": [
  {
   "cell_type": "markdown",
   "id": "455f6812",
   "metadata": {},
   "source": [
    "# Python 예제\n",
    "\n",
    "!python --version"
   ]
  },
  {
   "cell_type": "code",
   "execution_count": 2,
   "id": "062bae16",
   "metadata": {},
   "outputs": [],
   "source": [
    "import sys"
   ]
  },
  {
   "cell_type": "code",
   "execution_count": 3,
   "id": "322681de",
   "metadata": {},
   "outputs": [
    {
     "name": "stdout",
     "output_type": "stream",
     "text": [
      "3.8.8 (default, Apr 13 2021, 15:08:03) [MSC v.1916 64 bit (AMD64)]\n"
     ]
    }
   ],
   "source": [
    "print(sys.version)"
   ]
  },
  {
   "cell_type": "markdown",
   "id": "5f62d3e3",
   "metadata": {},
   "source": [
    "#DAY-1-1\n",
    "##대구\n",
    "###IT교육원"
   ]
  },
  {
   "cell_type": "markdown",
   "id": "693cf3ef",
   "metadata": {},
   "source": [
    "# Day-1-1\n",
    "## 대구\n",
    "### IT교육원\n",
    "#### 강사: 문정혁"
   ]
  },
  {
   "cell_type": "code",
   "execution_count": 11,
   "id": "9001834a",
   "metadata": {},
   "outputs": [
    {
     "name": "stdout",
     "output_type": "stream",
     "text": [
      "Writing helloworld.py\n"
     ]
    }
   ],
   "source": [
    "%%writefile helloworld.py\n",
    "\n",
    "print(\"Hello world\")"
   ]
  },
  {
   "cell_type": "code",
   "execution_count": 12,
   "id": "2e264991",
   "metadata": {},
   "outputs": [
    {
     "name": "stdout",
     "output_type": "stream",
     "text": [
      "Hello world\n"
     ]
    }
   ],
   "source": [
    "import helloworld"
   ]
  },
  {
   "cell_type": "code",
   "execution_count": 19,
   "id": "4c3e58b5",
   "metadata": {},
   "outputs": [
    {
     "name": "stdout",
     "output_type": "stream",
     "text": [
      " C 드라이브의 볼륨에는 이름이 없습니다.\n",
      " 볼륨 일련 번호: 3ADB-435C\n",
      "\n",
      " C:\\Users\\yoonchae 디렉터리\n",
      "\n",
      "2021-07-28  오전 09:40    <DIR>          .\n",
      "2021-07-28  오전 09:40    <DIR>          ..\n",
      "2021-07-28  오전 09:41    <DIR>          .conda\n",
      "2021-07-15  오전 11:33                25 .condarc\n",
      "2021-07-15  오전 11:33    <DIR>          .continuum\n",
      "2021-06-14  오전 09:28    <DIR>          .dlv\n",
      "2021-06-17  오후 03:12                50 .gitconfig\n",
      "2021-07-28  오전 09:15    <DIR>          .ipynb_checkpoints\n",
      "2021-07-15  오전 11:36    <DIR>          .ipython\n",
      "2021-07-28  오전 09:13    <DIR>          .jupyter\n",
      "2021-07-15  오후 02:50    <DIR>          .keras\n",
      "2021-06-22  오후 01:54                20 .lesshst\n",
      "2021-07-28  오전 08:43    <DIR>          .matplotlib\n",
      "2021-07-28  오전 09:11    <DIR>          .spyder-py3\n",
      "2021-07-08  오후 04:14    <DIR>          .ssh\n",
      "2021-07-08  오후 04:02    <DIR>          .vagrant\n",
      "2021-07-19  오전 10:09    <DIR>          .vagrant.d\n",
      "2021-06-22  오전 09:30             1,326 .viminfo\n",
      "2021-07-19  오전 10:08    <DIR>          .VirtualBox\n",
      "2021-06-11  오후 08:52    <DIR>          .vscode\n",
      "2021-07-28  오전 09:34    <DIR>          __pycache__\n",
      "2021-06-11  오후 08:31    <DIR>          3D Objects\n",
      "2021-07-21  오후 12:33                13 a1-1.txt\n",
      "2021-07-21  오전 11:24               164 a1-2.txt\n",
      "2021-07-21  오후 12:42               128 a1서명.txt\n",
      "2021-07-21  오후 12:21               159 a2.txt\n",
      "2021-07-21  오후 02:28               159 a2-1.txt\n",
      "2021-07-21  오후 02:26               128 a2sign.txt\n",
      "2021-07-21  오후 12:21                63 a3.txt\n",
      "2021-07-21  오전 10:05                36 aa.txt\n",
      "2021-07-21  오전 10:07                36 aa1.txt\n",
      "2021-07-15  오전 09:33    <DIR>          anaconda3\n",
      "2021-07-21  오전 11:44                87 b19.txt\n",
      "2021-07-21  오전 11:53                87 b20.txt\n",
      "2021-07-21  오후 12:01                87 b20-윤동영.txt\n",
      "2021-07-21  오전 09:36                56 bb.txt\n",
      "2021-07-21  오전 11:07               216 bimil.txt\n",
      "2021-07-21  오전 10:15           120,000 bimil1.raw\n",
      "2021-07-21  오전 10:01                32 bimil2.txt\n",
      "2021-07-21  오전 11:07               128 bimilkey.txt\n",
      "2021-07-21  오전 11:09                 5 bimilkey-out.txt\n",
      "2021-07-21  오전 10:16           120,000 bimils.raw\n",
      "2021-07-21  오전 11:10               197 bimil-복호화.txt\n",
      "2021-07-22  오전 10:56                25 block0.txt\n",
      "2021-07-22  오전 11:00               504 block1.txt\n",
      "2021-07-22  오전 11:03             5,968 block2.txt\n",
      "2021-07-22  오전 11:04            33,198 block3.txt\n",
      "2021-07-21  오전 09:30                40 bye.txt\n",
      "2021-07-21  오전 10:02                13 cdx.txt\n",
      "2021-07-21  오후 03:35           230,384 cipher.txt\n",
      "2021-07-21  오후 05:18               109 code.txt\n",
      "2021-07-21  오후 04:49               128 code-sign.txt\n",
      "2021-06-11  오후 08:31    <DIR>          Contacts\n",
      "2021-07-28  오전 09:40            11,307 Day1_1.ipynb\n",
      "2021-07-22  오후 12:23                 0 decrypted.txt\n",
      "2021-07-22  오후 12:26                12 decrypted_data.txt\n",
      "2021-07-21  오전 08:39    <DIR>          Desktop\n",
      "2021-07-19  오전 09:10    <DIR>          Documents\n",
      "2021-07-28  오전 08:40    <DIR>          Downloads\n",
      "2021-07-22  오후 12:26               128 encrypted_data.txt\n",
      "2021-06-11  오후 08:31    <DIR>          Favorites\n",
      "2021-06-14  오전 10:00    <DIR>          go\n",
      "2021-07-21  오전 09:33                16 good.txt\n",
      "2021-07-21  오전 10:33                42 hello.txt\n",
      "2021-07-28  오전 09:33                24 helloworld.py\n",
      "2021-06-11  오후 08:31    <DIR>          Links\n",
      "2021-06-11  오후 08:31    <DIR>          Music\n",
      "2021-07-22  오후 05:38    <DIR>          OneDrive\n",
      "2021-06-16  오전 11:14    <DIR>          Pictures\n",
      "2021-07-22  오전 11:39               450 Python_public.pem\n",
      "2021-07-21  오후 05:24            95,216 qlalf1.jpg\n",
      "2021-07-21  오후 04:34            95,248 qlalf-s.jpg\n",
      "2021-06-11  오후 08:31    <DIR>          Saved Games\n",
      "2021-06-11  오후 08:34    <DIR>          Searches\n",
      "2021-07-22  오후 02:16               256 sign.txt\n",
      "2021-07-22  오후 02:19                51 sign1.txt\n",
      "2021-07-21  오전 09:45           120,000 tux.raw\n",
      "2021-07-19  오전 10:09            43,584 ubuntu-xenial-16.04-cloudimg-console.log\n",
      "2021-07-12  오후 12:22             3,076 Vagrantfile\n",
      "2021-06-12  오전 05:57    <DIR>          Videos\n",
      "2021-07-13  오전 10:31    <DIR>          VirtualBox VMs\n",
      "2021-07-21  오전 10:29               128 wow.txt\n",
      "2021-07-21  오전 10:31                16 wowout.txt\n",
      "2021-07-21  오전 10:48               128 강윤채.txt\n",
      "2021-07-21  오후 02:10                19 강윤채1.txt\n",
      "2021-07-21  오전 10:23               902 강윤채개인키.pem\n",
      "2021-07-21  오후 02:16                19 강윤채결과.txt\n",
      "2021-07-21  오전 10:27               278 강윤채공개키.pem\n",
      "2021-07-21  오후 02:11               128 강윤채서명.txt\n",
      "2021-07-21  오전 10:34               128 강윤채암호문.txt\n",
      "2021-07-21  오전 10:48                46 강윤채-암호해독.txt\n",
      "2021-07-21  오전 11:20                38 권성우.txt\n",
      "2021-07-21  오후 05:10               278 권성우공개키.pem\n",
      "2021-07-21  오후 03:41               128 권성우패스우드암호문.txt\n",
      "2021-07-15  오후 03:29    <DIR>          새 폴더\n",
      "2021-07-21  오후 02:07               278 윤동영공개키.pem\n",
      "2021-07-21  오전 10:32               278 이해영공개키.pem\n",
      "              63개 파일             885,773 바이트\n",
      "              34개 디렉터리  148,818,370,560 바이트 남음\n"
     ]
    }
   ],
   "source": [
    "%ls"
   ]
  },
  {
   "cell_type": "code",
   "execution_count": 14,
   "id": "a0048390",
   "metadata": {},
   "outputs": [
    {
     "name": "stderr",
     "output_type": "stream",
     "text": [
      "'ls'은(는) 내부 또는 외부 명령, 실행할 수 있는 프로그램, 또는\n",
      "배치 파일이 아닙니다.\n"
     ]
    }
   ],
   "source": [
    "!ls"
   ]
  },
  {
   "cell_type": "code",
   "execution_count": 15,
   "id": "6f929b2d",
   "metadata": {},
   "outputs": [
    {
     "name": "stdout",
     "output_type": "stream",
     "text": [
      "Hello world\n"
     ]
    }
   ],
   "source": [
    "!python helloworld.py"
   ]
  },
  {
   "cell_type": "code",
   "execution_count": 20,
   "id": "4c1131c1",
   "metadata": {},
   "outputs": [],
   "source": [
    "import keyword"
   ]
  },
  {
   "cell_type": "code",
   "execution_count": 23,
   "id": "7a2a6bbf",
   "metadata": {},
   "outputs": [
    {
     "name": "stdout",
     "output_type": "stream",
     "text": [
      "['False', 'None', 'True', 'and', 'as', 'assert', 'async', 'await', 'break', 'class', 'continue', 'def', 'del', 'elif', 'else', 'except', 'finally', 'for', 'from', 'global', 'if', 'import', 'in', 'is', 'lambda', 'nonlocal', 'not', 'or', 'pass', 'raise', 'return', 'try', 'while', 'with', 'yield']\n"
     ]
    }
   ],
   "source": [
    "print(keyword.kwlist)"
   ]
  },
  {
   "cell_type": "code",
   "execution_count": 24,
   "id": "ff0cfb8e",
   "metadata": {},
   "outputs": [
    {
     "data": {
      "text/plain": [
       "35"
      ]
     },
     "execution_count": 24,
     "metadata": {},
     "output_type": "execute_result"
    }
   ],
   "source": [
    "len(keyword.kwlist)"
   ]
  },
  {
   "cell_type": "code",
   "execution_count": 25,
   "id": "719f82e2",
   "metadata": {},
   "outputs": [
    {
     "ename": "SyntaxError",
     "evalue": "invalid syntax (<ipython-input-25-3abe269c51ad>, line 1)",
     "output_type": "error",
     "traceback": [
      "\u001b[1;36m  File \u001b[1;32m\"<ipython-input-25-3abe269c51ad>\"\u001b[1;36m, line \u001b[1;32m1\u001b[0m\n\u001b[1;33m    if = 100\u001b[0m\n\u001b[1;37m       ^\u001b[0m\n\u001b[1;31mSyntaxError\u001b[0m\u001b[1;31m:\u001b[0m invalid syntax\n"
     ]
    }
   ],
   "source": [
    "if = 100"
   ]
  },
  {
   "cell_type": "code",
   "execution_count": 26,
   "id": "8eb11135",
   "metadata": {},
   "outputs": [
    {
     "data": {
      "text/plain": [
       "type"
      ]
     },
     "execution_count": 26,
     "metadata": {},
     "output_type": "execute_result"
    }
   ],
   "source": [
    "type"
   ]
  },
  {
   "cell_type": "code",
   "execution_count": 36,
   "id": "5878165f",
   "metadata": {},
   "outputs": [
    {
     "ename": "SyntaxError",
     "evalue": "invalid syntax (<ipython-input-36-dae2f2b7d9fe>, line 1)",
     "output_type": "error",
     "traceback": [
      "\u001b[1;36m  File \u001b[1;32m\"<ipython-input-36-dae2f2b7d9fe>\"\u001b[1;36m, line \u001b[1;32m1\u001b[0m\n\u001b[1;33m    1. 홍길동\u001b[0m\n\u001b[1;37m       ^\u001b[0m\n\u001b[1;31mSyntaxError\u001b[0m\u001b[1;31m:\u001b[0m invalid syntax\n"
     ]
    }
   ],
   "source": [
    "1. 홍길동"
   ]
  },
  {
   "cell_type": "code",
   "execution_count": null,
   "id": "14115cf2",
   "metadata": {},
   "outputs": [],
   "source": []
  },
  {
   "cell_type": "markdown",
   "id": "ecea1aeb",
   "metadata": {},
   "source": [
    "* 홍길동"
   ]
  },
  {
   "cell_type": "code",
   "execution_count": 37,
   "id": "d071fcbf",
   "metadata": {},
   "outputs": [
    {
     "data": {
      "text/plain": [
       "100"
      ]
     },
     "execution_count": 37,
     "metadata": {},
     "output_type": "execute_result"
    }
   ],
   "source": [
    "100"
   ]
  },
  {
   "cell_type": "markdown",
   "id": "fd5d7d17",
   "metadata": {},
   "source": [
    "### type\n",
    "\n",
    "- 객체"
   ]
  },
  {
   "cell_type": "code",
   "execution_count": 51,
   "id": "046f6603",
   "metadata": {},
   "outputs": [
    {
     "data": {
      "text/plain": [
       "int"
      ]
     },
     "execution_count": 51,
     "metadata": {},
     "output_type": "execute_result"
    }
   ],
   "source": [
    "type(100)"
   ]
  },
  {
   "cell_type": "code",
   "execution_count": 45,
   "id": "5209f081",
   "metadata": {},
   "outputs": [
    {
     "data": {
      "text/plain": [
       "False"
      ]
     },
     "execution_count": 45,
     "metadata": {},
     "output_type": "execute_result"
    }
   ],
   "source": [
    "isinstance(100, bool)"
   ]
  },
  {
   "cell_type": "markdown",
   "id": "0eea7c53",
   "metadata": {},
   "source": [
    "#### type이 같은지 확인 ex> 100 = int, bool = bool 그래서, False"
   ]
  },
  {
   "cell_type": "code",
   "execution_count": 46,
   "id": "425cbf9e",
   "metadata": {},
   "outputs": [],
   "source": [
    "a: int = 100"
   ]
  },
  {
   "cell_type": "code",
   "execution_count": 47,
   "id": "32630c9f",
   "metadata": {},
   "outputs": [
    {
     "data": {
      "text/plain": [
       "100"
      ]
     },
     "execution_count": 47,
     "metadata": {},
     "output_type": "execute_result"
    }
   ],
   "source": [
    "a"
   ]
  },
  {
   "cell_type": "code",
   "execution_count": 48,
   "id": "f2530eee",
   "metadata": {},
   "outputs": [
    {
     "data": {
      "text/plain": [
       "int"
      ]
     },
     "execution_count": 48,
     "metadata": {},
     "output_type": "execute_result"
    }
   ],
   "source": [
    "type(a)"
   ]
  },
  {
   "cell_type": "code",
   "execution_count": 49,
   "id": "99411113",
   "metadata": {},
   "outputs": [],
   "source": [
    "a = 100; b = 200; c = a+b"
   ]
  },
  {
   "cell_type": "code",
   "execution_count": 50,
   "id": "f2f9bc23",
   "metadata": {},
   "outputs": [
    {
     "data": {
      "text/plain": [
       "(100, 200, 300)"
      ]
     },
     "execution_count": 50,
     "metadata": {},
     "output_type": "execute_result"
    }
   ],
   "source": [
    "a, b, c"
   ]
  },
  {
   "cell_type": "code",
   "execution_count": 52,
   "id": "2e8425e5",
   "metadata": {},
   "outputs": [
    {
     "data": {
      "text/plain": [
       "{'__name__': '__main__',\n",
       " '__doc__': 'Automatically created module for IPython interactive environment',\n",
       " '__package__': None,\n",
       " '__loader__': None,\n",
       " '__spec__': None,\n",
       " '__builtin__': <module 'builtins' (built-in)>,\n",
       " '__builtins__': <module 'builtins' (built-in)>,\n",
       " '_ih': ['',\n",
       "  \"get_ipython().system('python --version')\",\n",
       "  'import sys',\n",
       "  'print(sys.version)',\n",
       "  'import requests\\nnaver_news = requests.get(\"http//news.naver.com\")',\n",
       "  \"import requests\\nnaver_news = requests.get('http//news.naver.com')\",\n",
       "  \"import requests\\nnaver_news = requests.get('http//news.naver.com')\",\n",
       "  \"import requests\\nnaver_news = requests.get('http//news.naver.com/')\",\n",
       "  \"import requests\\nnaver_news = requests.get('http//news.naver.com/')\",\n",
       "  'naver.text',\n",
       "  \"import requests\\nnaver_news = requests.get('http//news.naver.com/')\",\n",
       "  'get_ipython().run_cell_magic(\\'writefile\\', \\'helloworld.py\\', \\'\\\\nprint(\"Hello world\")\\\\n\\')',\n",
       "  'import helloworld',\n",
       "  \"get_ipython().run_line_magic('ls', '')\",\n",
       "  \"get_ipython().system('ls')\",\n",
       "  \"get_ipython().system('python helloworld.py')\",\n",
       "  'print(keyword.kwlist)',\n",
       "  'len(keywork.kwlist)',\n",
       "  'if = 100',\n",
       "  \"get_ipython().run_line_magic('ls', '')\",\n",
       "  'import keyword',\n",
       "  'len(keyword.kwlist)',\n",
       "  'if = 100',\n",
       "  'print(keyword.kwlist)',\n",
       "  'len(keyword.kwlist)',\n",
       "  'if = 100',\n",
       "  'type',\n",
       "  '+ 모듈이뭔지',\n",
       "  'ly 모듈이뭔지',\n",
       "  '* 모듈이뭔지',\n",
       "  '* 홍길동',\n",
       "  '* 홍길동',\n",
       "  '* 홍길동',\n",
       "  '* 홍길동',\n",
       "  '* 홍길동',\n",
       "  '1. 홍길동',\n",
       "  '1. 홍길동',\n",
       "  '100',\n",
       "  'type(100)',\n",
       "  'insinstance(100, float)',\n",
       "  'isinstance(100, float)',\n",
       "  'isinstance(100, bool)',\n",
       "  'int a = 100',\n",
       "  'a = 100',\n",
       "  'a: int = 100',\n",
       "  'isinstance(100, bool)',\n",
       "  'a: int = 100',\n",
       "  'a',\n",
       "  'type(a)',\n",
       "  'a = 100; b = 200; c = a+b',\n",
       "  'a, b, c',\n",
       "  'type(100)',\n",
       "  'globals()'],\n",
       " '_oh': {21: 35,\n",
       "  24: 35,\n",
       "  26: type,\n",
       "  37: 100,\n",
       "  38: int,\n",
       "  40: False,\n",
       "  41: False,\n",
       "  45: False,\n",
       "  47: 100,\n",
       "  48: int,\n",
       "  50: (100, 200, 300),\n",
       "  51: int},\n",
       " '_dh': ['C:\\\\Users\\\\yoonchae'],\n",
       " 'In': ['',\n",
       "  \"get_ipython().system('python --version')\",\n",
       "  'import sys',\n",
       "  'print(sys.version)',\n",
       "  'import requests\\nnaver_news = requests.get(\"http//news.naver.com\")',\n",
       "  \"import requests\\nnaver_news = requests.get('http//news.naver.com')\",\n",
       "  \"import requests\\nnaver_news = requests.get('http//news.naver.com')\",\n",
       "  \"import requests\\nnaver_news = requests.get('http//news.naver.com/')\",\n",
       "  \"import requests\\nnaver_news = requests.get('http//news.naver.com/')\",\n",
       "  'naver.text',\n",
       "  \"import requests\\nnaver_news = requests.get('http//news.naver.com/')\",\n",
       "  'get_ipython().run_cell_magic(\\'writefile\\', \\'helloworld.py\\', \\'\\\\nprint(\"Hello world\")\\\\n\\')',\n",
       "  'import helloworld',\n",
       "  \"get_ipython().run_line_magic('ls', '')\",\n",
       "  \"get_ipython().system('ls')\",\n",
       "  \"get_ipython().system('python helloworld.py')\",\n",
       "  'print(keyword.kwlist)',\n",
       "  'len(keywork.kwlist)',\n",
       "  'if = 100',\n",
       "  \"get_ipython().run_line_magic('ls', '')\",\n",
       "  'import keyword',\n",
       "  'len(keyword.kwlist)',\n",
       "  'if = 100',\n",
       "  'print(keyword.kwlist)',\n",
       "  'len(keyword.kwlist)',\n",
       "  'if = 100',\n",
       "  'type',\n",
       "  '+ 모듈이뭔지',\n",
       "  'ly 모듈이뭔지',\n",
       "  '* 모듈이뭔지',\n",
       "  '* 홍길동',\n",
       "  '* 홍길동',\n",
       "  '* 홍길동',\n",
       "  '* 홍길동',\n",
       "  '* 홍길동',\n",
       "  '1. 홍길동',\n",
       "  '1. 홍길동',\n",
       "  '100',\n",
       "  'type(100)',\n",
       "  'insinstance(100, float)',\n",
       "  'isinstance(100, float)',\n",
       "  'isinstance(100, bool)',\n",
       "  'int a = 100',\n",
       "  'a = 100',\n",
       "  'a: int = 100',\n",
       "  'isinstance(100, bool)',\n",
       "  'a: int = 100',\n",
       "  'a',\n",
       "  'type(a)',\n",
       "  'a = 100; b = 200; c = a+b',\n",
       "  'a, b, c',\n",
       "  'type(100)',\n",
       "  'globals()'],\n",
       " 'Out': {21: 35,\n",
       "  24: 35,\n",
       "  26: type,\n",
       "  37: 100,\n",
       "  38: int,\n",
       "  40: False,\n",
       "  41: False,\n",
       "  45: False,\n",
       "  47: 100,\n",
       "  48: int,\n",
       "  50: (100, 200, 300),\n",
       "  51: int},\n",
       " 'get_ipython': <bound method InteractiveShell.get_ipython of <ipykernel.zmqshell.ZMQInteractiveShell object at 0x0000027DF7DCAD90>>,\n",
       " 'exit': <IPython.core.autocall.ZMQExitAutocall at 0x27df7e5b5e0>,\n",
       " 'quit': <IPython.core.autocall.ZMQExitAutocall at 0x27df7e5b5e0>,\n",
       " '_': int,\n",
       " '__': (100, 200, 300),\n",
       " '___': int,\n",
       " '_i': 'type(100)',\n",
       " '_ii': 'a, b, c',\n",
       " '_iii': 'a = 100; b = 200; c = a+b',\n",
       " '_i1': '!python --version',\n",
       " '_exit_code': 0,\n",
       " '_i2': 'import sys',\n",
       " 'sys': <module 'sys' (built-in)>,\n",
       " '_i3': 'print(sys.version)',\n",
       " '_i4': 'import requests\\nnaver_news = requests.get(\"http//news.naver.com\")',\n",
       " 'requests': <module 'requests' from 'C:\\\\Users\\\\yoonchae\\\\anaconda3\\\\lib\\\\site-packages\\\\requests\\\\__init__.py'>,\n",
       " '_i5': \"import requests\\nnaver_news = requests.get('http//news.naver.com')\",\n",
       " '_i6': \"import requests\\nnaver_news = requests.get('http//news.naver.com')\",\n",
       " '_i7': \"import requests\\nnaver_news = requests.get('http//news.naver.com/')\",\n",
       " '_i8': \"import requests\\nnaver_news = requests.get('http//news.naver.com/')\",\n",
       " '_i9': 'naver.text',\n",
       " '_i10': \"import requests\\nnaver_news = requests.get('http//news.naver.com/')\",\n",
       " '_i11': '%%writefile helloworld.py\\n\\nprint(\"Hello world\")',\n",
       " '_i12': 'import helloworld',\n",
       " 'helloworld': <module 'helloworld' from 'C:\\\\Users\\\\yoonchae\\\\helloworld.py'>,\n",
       " '_i13': '%ls',\n",
       " '_i14': '!ls',\n",
       " '_i15': '!python helloworld.py',\n",
       " '_i16': 'print(keyword.kwlist)',\n",
       " '_i17': 'len(keywork.kwlist)',\n",
       " '_i18': 'if = 100',\n",
       " '_i19': '%ls',\n",
       " '_i20': 'import keyword',\n",
       " 'keyword': <module 'keyword' from 'C:\\\\Users\\\\yoonchae\\\\anaconda3\\\\lib\\\\keyword.py'>,\n",
       " '_i21': 'len(keyword.kwlist)',\n",
       " '_21': 35,\n",
       " '_i22': 'if = 100',\n",
       " '_i23': 'print(keyword.kwlist)',\n",
       " '_i24': 'len(keyword.kwlist)',\n",
       " '_24': 35,\n",
       " '_i25': 'if = 100',\n",
       " '_i26': 'type',\n",
       " '_26': type,\n",
       " '_i27': '+ 모듈이뭔지',\n",
       " '_i28': 'ly 모듈이뭔지',\n",
       " '_i29': '* 모듈이뭔지',\n",
       " '_i30': '* 홍길동',\n",
       " '_i31': '* 홍길동',\n",
       " '_i32': '* 홍길동',\n",
       " '_i33': '* 홍길동',\n",
       " '_i34': '* 홍길동',\n",
       " '_i35': '1. 홍길동',\n",
       " '_i36': '1. 홍길동',\n",
       " '_i37': '100',\n",
       " '_37': 100,\n",
       " '_i38': 'type(100)',\n",
       " '_38': int,\n",
       " '_i39': 'insinstance(100, float)',\n",
       " '_i40': 'isinstance(100, float)',\n",
       " '_40': False,\n",
       " '_i41': 'isinstance(100, bool)',\n",
       " '_41': False,\n",
       " '_i42': 'int a = 100',\n",
       " '_i43': 'a = 100',\n",
       " 'a': 100,\n",
       " '_i44': 'a: int = 100',\n",
       " '__annotations__': {'a': int},\n",
       " '_i45': 'isinstance(100, bool)',\n",
       " '_45': False,\n",
       " '_i46': 'a: int = 100',\n",
       " '_i47': 'a',\n",
       " '_47': 100,\n",
       " '_i48': 'type(a)',\n",
       " '_48': int,\n",
       " '_i49': 'a = 100; b = 200; c = a+b',\n",
       " 'b': 200,\n",
       " 'c': 300,\n",
       " '_i50': 'a, b, c',\n",
       " '_50': (100, 200, 300),\n",
       " '_i51': 'type(100)',\n",
       " '_51': int,\n",
       " '_i52': 'globals()'}"
      ]
     },
     "execution_count": 52,
     "metadata": {},
     "output_type": "execute_result"
    }
   ],
   "source": [
    "globals()"
   ]
  },
  {
   "cell_type": "code",
   "execution_count": 53,
   "id": "10161d4d",
   "metadata": {},
   "outputs": [
    {
     "data": {
      "text/plain": [
       "{'__name__': '__main__',\n",
       " '__doc__': 'Automatically created module for IPython interactive environment',\n",
       " '__package__': None,\n",
       " '__loader__': None,\n",
       " '__spec__': None,\n",
       " '__builtin__': <module 'builtins' (built-in)>,\n",
       " '__builtins__': <module 'builtins' (built-in)>,\n",
       " '_ih': ['',\n",
       "  \"get_ipython().system('python --version')\",\n",
       "  'import sys',\n",
       "  'print(sys.version)',\n",
       "  'import requests\\nnaver_news = requests.get(\"http//news.naver.com\")',\n",
       "  \"import requests\\nnaver_news = requests.get('http//news.naver.com')\",\n",
       "  \"import requests\\nnaver_news = requests.get('http//news.naver.com')\",\n",
       "  \"import requests\\nnaver_news = requests.get('http//news.naver.com/')\",\n",
       "  \"import requests\\nnaver_news = requests.get('http//news.naver.com/')\",\n",
       "  'naver.text',\n",
       "  \"import requests\\nnaver_news = requests.get('http//news.naver.com/')\",\n",
       "  'get_ipython().run_cell_magic(\\'writefile\\', \\'helloworld.py\\', \\'\\\\nprint(\"Hello world\")\\\\n\\')',\n",
       "  'import helloworld',\n",
       "  \"get_ipython().run_line_magic('ls', '')\",\n",
       "  \"get_ipython().system('ls')\",\n",
       "  \"get_ipython().system('python helloworld.py')\",\n",
       "  'print(keyword.kwlist)',\n",
       "  'len(keywork.kwlist)',\n",
       "  'if = 100',\n",
       "  \"get_ipython().run_line_magic('ls', '')\",\n",
       "  'import keyword',\n",
       "  'len(keyword.kwlist)',\n",
       "  'if = 100',\n",
       "  'print(keyword.kwlist)',\n",
       "  'len(keyword.kwlist)',\n",
       "  'if = 100',\n",
       "  'type',\n",
       "  '+ 모듈이뭔지',\n",
       "  'ly 모듈이뭔지',\n",
       "  '* 모듈이뭔지',\n",
       "  '* 홍길동',\n",
       "  '* 홍길동',\n",
       "  '* 홍길동',\n",
       "  '* 홍길동',\n",
       "  '* 홍길동',\n",
       "  '1. 홍길동',\n",
       "  '1. 홍길동',\n",
       "  '100',\n",
       "  'type(100)',\n",
       "  'insinstance(100, float)',\n",
       "  'isinstance(100, float)',\n",
       "  'isinstance(100, bool)',\n",
       "  'int a = 100',\n",
       "  'a = 100',\n",
       "  'a: int = 100',\n",
       "  'isinstance(100, bool)',\n",
       "  'a: int = 100',\n",
       "  'a',\n",
       "  'type(a)',\n",
       "  'a = 100; b = 200; c = a+b',\n",
       "  'a, b, c',\n",
       "  'type(100)',\n",
       "  'globals()',\n",
       "  'locals()'],\n",
       " '_oh': {21: 35,\n",
       "  24: 35,\n",
       "  26: type,\n",
       "  37: 100,\n",
       "  38: int,\n",
       "  40: False,\n",
       "  41: False,\n",
       "  45: False,\n",
       "  47: 100,\n",
       "  48: int,\n",
       "  50: (100, 200, 300),\n",
       "  51: int,\n",
       "  52: {...}},\n",
       " '_dh': ['C:\\\\Users\\\\yoonchae'],\n",
       " 'In': ['',\n",
       "  \"get_ipython().system('python --version')\",\n",
       "  'import sys',\n",
       "  'print(sys.version)',\n",
       "  'import requests\\nnaver_news = requests.get(\"http//news.naver.com\")',\n",
       "  \"import requests\\nnaver_news = requests.get('http//news.naver.com')\",\n",
       "  \"import requests\\nnaver_news = requests.get('http//news.naver.com')\",\n",
       "  \"import requests\\nnaver_news = requests.get('http//news.naver.com/')\",\n",
       "  \"import requests\\nnaver_news = requests.get('http//news.naver.com/')\",\n",
       "  'naver.text',\n",
       "  \"import requests\\nnaver_news = requests.get('http//news.naver.com/')\",\n",
       "  'get_ipython().run_cell_magic(\\'writefile\\', \\'helloworld.py\\', \\'\\\\nprint(\"Hello world\")\\\\n\\')',\n",
       "  'import helloworld',\n",
       "  \"get_ipython().run_line_magic('ls', '')\",\n",
       "  \"get_ipython().system('ls')\",\n",
       "  \"get_ipython().system('python helloworld.py')\",\n",
       "  'print(keyword.kwlist)',\n",
       "  'len(keywork.kwlist)',\n",
       "  'if = 100',\n",
       "  \"get_ipython().run_line_magic('ls', '')\",\n",
       "  'import keyword',\n",
       "  'len(keyword.kwlist)',\n",
       "  'if = 100',\n",
       "  'print(keyword.kwlist)',\n",
       "  'len(keyword.kwlist)',\n",
       "  'if = 100',\n",
       "  'type',\n",
       "  '+ 모듈이뭔지',\n",
       "  'ly 모듈이뭔지',\n",
       "  '* 모듈이뭔지',\n",
       "  '* 홍길동',\n",
       "  '* 홍길동',\n",
       "  '* 홍길동',\n",
       "  '* 홍길동',\n",
       "  '* 홍길동',\n",
       "  '1. 홍길동',\n",
       "  '1. 홍길동',\n",
       "  '100',\n",
       "  'type(100)',\n",
       "  'insinstance(100, float)',\n",
       "  'isinstance(100, float)',\n",
       "  'isinstance(100, bool)',\n",
       "  'int a = 100',\n",
       "  'a = 100',\n",
       "  'a: int = 100',\n",
       "  'isinstance(100, bool)',\n",
       "  'a: int = 100',\n",
       "  'a',\n",
       "  'type(a)',\n",
       "  'a = 100; b = 200; c = a+b',\n",
       "  'a, b, c',\n",
       "  'type(100)',\n",
       "  'globals()',\n",
       "  'locals()'],\n",
       " 'Out': {21: 35,\n",
       "  24: 35,\n",
       "  26: type,\n",
       "  37: 100,\n",
       "  38: int,\n",
       "  40: False,\n",
       "  41: False,\n",
       "  45: False,\n",
       "  47: 100,\n",
       "  48: int,\n",
       "  50: (100, 200, 300),\n",
       "  51: int,\n",
       "  52: {...}},\n",
       " 'get_ipython': <bound method InteractiveShell.get_ipython of <ipykernel.zmqshell.ZMQInteractiveShell object at 0x0000027DF7DCAD90>>,\n",
       " 'exit': <IPython.core.autocall.ZMQExitAutocall at 0x27df7e5b5e0>,\n",
       " 'quit': <IPython.core.autocall.ZMQExitAutocall at 0x27df7e5b5e0>,\n",
       " '_': {...},\n",
       " '__': int,\n",
       " '___': (100, 200, 300),\n",
       " '_i': 'globals()',\n",
       " '_ii': 'type(100)',\n",
       " '_iii': 'a, b, c',\n",
       " '_i1': '!python --version',\n",
       " '_exit_code': 0,\n",
       " '_i2': 'import sys',\n",
       " 'sys': <module 'sys' (built-in)>,\n",
       " '_i3': 'print(sys.version)',\n",
       " '_i4': 'import requests\\nnaver_news = requests.get(\"http//news.naver.com\")',\n",
       " 'requests': <module 'requests' from 'C:\\\\Users\\\\yoonchae\\\\anaconda3\\\\lib\\\\site-packages\\\\requests\\\\__init__.py'>,\n",
       " '_i5': \"import requests\\nnaver_news = requests.get('http//news.naver.com')\",\n",
       " '_i6': \"import requests\\nnaver_news = requests.get('http//news.naver.com')\",\n",
       " '_i7': \"import requests\\nnaver_news = requests.get('http//news.naver.com/')\",\n",
       " '_i8': \"import requests\\nnaver_news = requests.get('http//news.naver.com/')\",\n",
       " '_i9': 'naver.text',\n",
       " '_i10': \"import requests\\nnaver_news = requests.get('http//news.naver.com/')\",\n",
       " '_i11': '%%writefile helloworld.py\\n\\nprint(\"Hello world\")',\n",
       " '_i12': 'import helloworld',\n",
       " 'helloworld': <module 'helloworld' from 'C:\\\\Users\\\\yoonchae\\\\helloworld.py'>,\n",
       " '_i13': '%ls',\n",
       " '_i14': '!ls',\n",
       " '_i15': '!python helloworld.py',\n",
       " '_i16': 'print(keyword.kwlist)',\n",
       " '_i17': 'len(keywork.kwlist)',\n",
       " '_i18': 'if = 100',\n",
       " '_i19': '%ls',\n",
       " '_i20': 'import keyword',\n",
       " 'keyword': <module 'keyword' from 'C:\\\\Users\\\\yoonchae\\\\anaconda3\\\\lib\\\\keyword.py'>,\n",
       " '_i21': 'len(keyword.kwlist)',\n",
       " '_21': 35,\n",
       " '_i22': 'if = 100',\n",
       " '_i23': 'print(keyword.kwlist)',\n",
       " '_i24': 'len(keyword.kwlist)',\n",
       " '_24': 35,\n",
       " '_i25': 'if = 100',\n",
       " '_i26': 'type',\n",
       " '_26': type,\n",
       " '_i27': '+ 모듈이뭔지',\n",
       " '_i28': 'ly 모듈이뭔지',\n",
       " '_i29': '* 모듈이뭔지',\n",
       " '_i30': '* 홍길동',\n",
       " '_i31': '* 홍길동',\n",
       " '_i32': '* 홍길동',\n",
       " '_i33': '* 홍길동',\n",
       " '_i34': '* 홍길동',\n",
       " '_i35': '1. 홍길동',\n",
       " '_i36': '1. 홍길동',\n",
       " '_i37': '100',\n",
       " '_37': 100,\n",
       " '_i38': 'type(100)',\n",
       " '_38': int,\n",
       " '_i39': 'insinstance(100, float)',\n",
       " '_i40': 'isinstance(100, float)',\n",
       " '_40': False,\n",
       " '_i41': 'isinstance(100, bool)',\n",
       " '_41': False,\n",
       " '_i42': 'int a = 100',\n",
       " '_i43': 'a = 100',\n",
       " 'a': 100,\n",
       " '_i44': 'a: int = 100',\n",
       " '__annotations__': {'a': int},\n",
       " '_i45': 'isinstance(100, bool)',\n",
       " '_45': False,\n",
       " '_i46': 'a: int = 100',\n",
       " '_i47': 'a',\n",
       " '_47': 100,\n",
       " '_i48': 'type(a)',\n",
       " '_48': int,\n",
       " '_i49': 'a = 100; b = 200; c = a+b',\n",
       " 'b': 200,\n",
       " 'c': 300,\n",
       " '_i50': 'a, b, c',\n",
       " '_50': (100, 200, 300),\n",
       " '_i51': 'type(100)',\n",
       " '_51': int,\n",
       " '_i52': 'globals()',\n",
       " '_52': {...},\n",
       " '_i53': 'locals()'}"
      ]
     },
     "execution_count": 53,
     "metadata": {},
     "output_type": "execute_result"
    }
   ],
   "source": [
    "locals()"
   ]
  },
  {
   "cell_type": "code",
   "execution_count": 54,
   "id": "e11925bc",
   "metadata": {},
   "outputs": [],
   "source": [
    "a = {\n",
    "    'a' : 100,\n",
    "    'b': '200'\n",
    "}"
   ]
  },
  {
   "cell_type": "code",
   "execution_count": 55,
   "id": "ba141b83",
   "metadata": {},
   "outputs": [
    {
     "data": {
      "text/plain": [
       "{'a': 100, 'b': '200'}"
      ]
     },
     "execution_count": 55,
     "metadata": {},
     "output_type": "execute_result"
    }
   ],
   "source": [
    "a"
   ]
  },
  {
   "cell_type": "markdown",
   "id": "77869bed",
   "metadata": {},
   "source": [
    "### class"
   ]
  },
  {
   "cell_type": "code",
   "execution_count": 70,
   "id": "2cb49776",
   "metadata": {},
   "outputs": [],
   "source": [
    "class Person:\n",
    "    def __init__(self, height, weight, age, name):\n",
    "        self.height = height\n",
    "        self.weight = weight\n",
    "        self.age = age\n",
    "        self.name =name\n",
    "    \n",
    "    def say_korean(self):\n",
    "        print(\"한국어할수있습니다.\")"
   ]
  },
  {
   "cell_type": "code",
   "execution_count": 71,
   "id": "03d545d2",
   "metadata": {},
   "outputs": [],
   "source": [
    "moon = Person(165, 70, 35, '문성혁')"
   ]
  },
  {
   "cell_type": "code",
   "execution_count": 72,
   "id": "d1baef83",
   "metadata": {},
   "outputs": [
    {
     "data": {
      "text/plain": [
       "<__main__.Person at 0x27df8225220>"
      ]
     },
     "execution_count": 72,
     "metadata": {},
     "output_type": "execute_result"
    }
   ],
   "source": [
    "moon"
   ]
  },
  {
   "cell_type": "code",
   "execution_count": 73,
   "id": "ee7e9c2b",
   "metadata": {},
   "outputs": [
    {
     "name": "stdout",
     "output_type": "stream",
     "text": [
      "['__class__', '__delattr__', '__dict__', '__dir__', '__doc__', '__eq__', '__format__', '__ge__', '__getattribute__', '__gt__', '__hash__', '__init__', '__init_subclass__', '__le__', '__lt__', '__module__', '__ne__', '__new__', '__reduce__', '__reduce_ex__', '__repr__', '__setattr__', '__sizeof__', '__str__', '__subclasshook__', '__weakref__', 'age', 'height', 'name', 'say_korean', 'weight']\n"
     ]
    }
   ],
   "source": [
    "print(dir(moon))"
   ]
  },
  {
   "cell_type": "markdown",
   "id": "73bb5453",
   "metadata": {},
   "source": [
    "## 내장자료형\n",
    "#### builtin data type\n",
    "\n",
    "- 파이썬 내부적으로 가지는 자료형은 숫자, 문자열 리스트, 튜플, 딕션너리, 집합 등"
   ]
  },
  {
   "cell_type": "code",
   "execution_count": 74,
   "id": "1b9ac82b",
   "metadata": {},
   "outputs": [
    {
     "data": {
      "text/plain": [
       "<module 'builtins' (built-in)>"
      ]
     },
     "execution_count": 74,
     "metadata": {},
     "output_type": "execute_result"
    }
   ],
   "source": [
    "__builtins__"
   ]
  },
  {
   "cell_type": "code",
   "execution_count": null,
   "id": "035ad0db",
   "metadata": {},
   "outputs": [],
   "source": []
  },
  {
   "cell_type": "code",
   "execution_count": 76,
   "id": "a14559af",
   "metadata": {},
   "outputs": [
    {
     "ename": "SyntaxError",
     "evalue": "invalid syntax (<ipython-input-76-91fc2f157723>, line 1)",
     "output_type": "error",
     "traceback": [
      "\u001b[1;36m  File \u001b[1;32m\"<ipython-input-76-91fc2f157723>\"\u001b[1;36m, line \u001b[1;32m1\u001b[0m\n\u001b[1;33m    __builtins__.__dict__{'int'}\u001b[0m\n\u001b[1;37m                         ^\u001b[0m\n\u001b[1;31mSyntaxError\u001b[0m\u001b[1;31m:\u001b[0m invalid syntax\n"
     ]
    }
   ],
   "source": [
    "__builtins__.__dict__{'int'}"
   ]
  },
  {
   "cell_type": "code",
   "execution_count": null,
   "id": "22e6800c",
   "metadata": {},
   "outputs": [],
   "source": [
    "__builtins__.__dict__{'float'}"
   ]
  },
  {
   "cell_type": "code",
   "execution_count": 77,
   "id": "d600d55c",
   "metadata": {},
   "outputs": [
    {
     "ename": "SyntaxError",
     "evalue": "invalid syntax (<ipython-input-77-5604f7fcb47d>, line 1)",
     "output_type": "error",
     "traceback": [
      "\u001b[1;36m  File \u001b[1;32m\"<ipython-input-77-5604f7fcb47d>\"\u001b[1;36m, line \u001b[1;32m1\u001b[0m\n\u001b[1;33m    __builtins__.__dict__{'tuple'}\u001b[0m\n\u001b[1;37m                         ^\u001b[0m\n\u001b[1;31mSyntaxError\u001b[0m\u001b[1;31m:\u001b[0m invalid syntax\n"
     ]
    }
   ],
   "source": [
    "__builtins__.__dict__{'tuple'}"
   ]
  },
  {
   "cell_type": "code",
   "execution_count": 78,
   "id": "ec201876",
   "metadata": {},
   "outputs": [],
   "source": [
    "import math"
   ]
  },
  {
   "cell_type": "code",
   "execution_count": 80,
   "id": "16331dc1",
   "metadata": {},
   "outputs": [
    {
     "name": "stdout",
     "output_type": "stream",
     "text": [
      "['__doc__', '__loader__', '__name__', '__package__', '__spec__', 'acos', 'acosh', 'asin', 'asinh', 'atan', 'atan2', 'atanh', 'ceil', 'comb', 'copysign', 'cos', 'cosh', 'degrees', 'dist', 'e', 'erf', 'erfc', 'exp', 'expm1', 'fabs', 'factorial', 'floor', 'fmod', 'frexp', 'fsum', 'gamma', 'gcd', 'hypot', 'inf', 'isclose', 'isfinite', 'isinf', 'isnan', 'isqrt', 'ldexp', 'lgamma', 'log', 'log10', 'log1p', 'log2', 'modf', 'nan', 'perm', 'pi', 'pow', 'prod', 'radians', 'remainder', 'sin', 'sinh', 'sqrt', 'tan', 'tanh', 'tau', 'trunc']\n"
     ]
    }
   ],
   "source": [
    "print(dir(math))"
   ]
  },
  {
   "cell_type": "code",
   "execution_count": 81,
   "id": "ad978f95",
   "metadata": {},
   "outputs": [
    {
     "data": {
      "text/plain": [
       "100"
      ]
     },
     "execution_count": 81,
     "metadata": {},
     "output_type": "execute_result"
    }
   ],
   "source": [
    "math.floor(100.9)"
   ]
  },
  {
   "cell_type": "code",
   "execution_count": 83,
   "id": "0461475c",
   "metadata": {},
   "outputs": [
    {
     "data": {
      "text/plain": [
       "101"
      ]
     },
     "execution_count": 83,
     "metadata": {},
     "output_type": "execute_result"
    }
   ],
   "source": [
    "math.ceil(100.1)"
   ]
  },
  {
   "cell_type": "code",
   "execution_count": 85,
   "id": "8367e715",
   "metadata": {},
   "outputs": [
    {
     "data": {
      "text/plain": [
       "100"
      ]
     },
     "execution_count": 85,
     "metadata": {},
     "output_type": "execute_result"
    }
   ],
   "source": [
    "round(100.4)"
   ]
  },
  {
   "cell_type": "code",
   "execution_count": 86,
   "id": "5571bc33",
   "metadata": {},
   "outputs": [
    {
     "data": {
      "text/plain": [
       "101"
      ]
     },
     "execution_count": 86,
     "metadata": {},
     "output_type": "execute_result"
    }
   ],
   "source": [
    "round(100.6)"
   ]
  },
  {
   "cell_type": "markdown",
   "id": "0242a4b3",
   "metadata": {},
   "source": [
    "## 시퀀스 자료형\n",
    "\n",
    "- 문자열,리스트,튜플"
   ]
  },
  {
   "cell_type": "code",
   "execution_count": 88,
   "id": "944d1df6",
   "metadata": {},
   "outputs": [],
   "source": [
    "import collections as cols"
   ]
  },
  {
   "cell_type": "code",
   "execution_count": 89,
   "id": "30dea010",
   "metadata": {},
   "outputs": [
    {
     "data": {
      "text/plain": [
       "<module 'collections' from 'C:\\\\Users\\\\yoonchae\\\\anaconda3\\\\lib\\\\collections\\\\__init__.py'>"
      ]
     },
     "execution_count": 89,
     "metadata": {},
     "output_type": "execute_result"
    }
   ],
   "source": [
    "cols"
   ]
  },
  {
   "cell_type": "code",
   "execution_count": 90,
   "id": "bde7904d",
   "metadata": {},
   "outputs": [
    {
     "name": "stdout",
     "output_type": "stream",
     "text": [
      "['ChainMap', 'Counter', 'OrderedDict', 'UserDict', 'UserList', 'UserString', '_Link', '_OrderedDictItemsView', '_OrderedDictKeysView', '_OrderedDictValuesView', '__all__', '__builtins__', '__cached__', '__doc__', '__file__', '__getattr__', '__loader__', '__name__', '__package__', '__path__', '__spec__', '_chain', '_collections_abc', '_count_elements', '_eq', '_heapq', '_iskeyword', '_itemgetter', '_proxy', '_recursive_repr', '_repeat', '_starmap', '_sys', '_tuplegetter', 'abc', 'defaultdict', 'deque', 'namedtuple']\n"
     ]
    }
   ],
   "source": [
    "print(dir(cols))"
   ]
  },
  {
   "cell_type": "code",
   "execution_count": 91,
   "id": "d77d8ad7",
   "metadata": {},
   "outputs": [
    {
     "data": {
      "text/plain": [
       "True"
      ]
     },
     "execution_count": 91,
     "metadata": {},
     "output_type": "execute_result"
    }
   ],
   "source": [
    "issubclass(str, cols.abc.Sequence)"
   ]
  },
  {
   "cell_type": "code",
   "execution_count": 92,
   "id": "40686551",
   "metadata": {},
   "outputs": [
    {
     "data": {
      "text/plain": [
       "True"
      ]
     },
     "execution_count": 92,
     "metadata": {},
     "output_type": "execute_result"
    }
   ],
   "source": [
    "issubclass(list, cols.abc.Sequence)"
   ]
  },
  {
   "cell_type": "code",
   "execution_count": 93,
   "id": "1ae72ec5",
   "metadata": {},
   "outputs": [],
   "source": [
    "a = {1,2,3}"
   ]
  },
  {
   "cell_type": "code",
   "execution_count": 94,
   "id": "2ef9c8fd",
   "metadata": {},
   "outputs": [
    {
     "data": {
      "text/plain": [
       "{1, 2, 3}"
      ]
     },
     "execution_count": 94,
     "metadata": {},
     "output_type": "execute_result"
    }
   ],
   "source": [
    "a"
   ]
  },
  {
   "cell_type": "code",
   "execution_count": 95,
   "id": "c681cc38",
   "metadata": {},
   "outputs": [],
   "source": [
    "b = cols.UserList([1,2,3])"
   ]
  },
  {
   "cell_type": "code",
   "execution_count": 96,
   "id": "8ec36a1c",
   "metadata": {
    "scrolled": true
   },
   "outputs": [
    {
     "data": {
      "text/plain": [
       "[1, 2, 3]"
      ]
     },
     "execution_count": 96,
     "metadata": {},
     "output_type": "execute_result"
    }
   ],
   "source": [
    "b"
   ]
  },
  {
   "cell_type": "code",
   "execution_count": 97,
   "id": "7c1d14c3",
   "metadata": {},
   "outputs": [
    {
     "data": {
      "text/plain": [
       "'문자열'"
      ]
     },
     "execution_count": 97,
     "metadata": {},
     "output_type": "execute_result"
    }
   ],
   "source": [
    "\"문자열\""
   ]
  },
  {
   "cell_type": "code",
   "execution_count": 98,
   "id": "cfb64d5c",
   "metadata": {},
   "outputs": [
    {
     "data": {
      "text/plain": [
       "'문자열'"
      ]
     },
     "execution_count": 98,
     "metadata": {},
     "output_type": "execute_result"
    }
   ],
   "source": [
    "str('문자열')"
   ]
  },
  {
   "cell_type": "code",
   "execution_count": 103,
   "id": "63b77bbb",
   "metadata": {},
   "outputs": [
    {
     "data": {
      "text/plain": [
       "97"
      ]
     },
     "execution_count": 103,
     "metadata": {},
     "output_type": "execute_result"
    }
   ],
   "source": [
    "ord('a')"
   ]
  },
  {
   "cell_type": "code",
   "execution_count": 101,
   "id": "060a548d",
   "metadata": {},
   "outputs": [
    {
     "name": "stdout",
     "output_type": "stream",
     "text": [
      "입력해주세요 : 1234\n"
     ]
    }
   ],
   "source": [
    "a = input('입력해주세요 : ')"
   ]
  },
  {
   "cell_type": "code",
   "execution_count": 109,
   "id": "f47873bb",
   "metadata": {},
   "outputs": [
    {
     "name": "stdout",
     "output_type": "stream",
     "text": [
      "첫번째 수를 입력하세요 :11\n",
      "두번째 수를 입력하세요 :12\n",
      "결과 :132\n",
      "결과 : 132\n"
     ]
    }
   ],
   "source": [
    "a = int(input('첫번째 수를 입력하세요 :'))\n",
    "b = int(input('두번째 수를 입력하세요 :'))\n",
    "print(\"결과 :\" + str(a*b))\n",
    "print(f\"결과 : { (a*b)}\")"
   ]
  },
  {
   "cell_type": "code",
   "execution_count": 110,
   "id": "3e09b173",
   "metadata": {},
   "outputs": [
    {
     "name": "stdout",
     "output_type": "stream",
     "text": [
      "Help on method raw_input in module ipykernel.kernelbase:\n",
      "\n",
      "raw_input(prompt='') method of ipykernel.ipkernel.IPythonKernel instance\n",
      "    Forward raw_input to frontends\n",
      "    \n",
      "    Raises\n",
      "    ------\n",
      "    StdinNotImplentedError if active frontend doesn't support stdin.\n",
      "\n"
     ]
    }
   ],
   "source": [
    "help(input)"
   ]
  },
  {
   "cell_type": "code",
   "execution_count": null,
   "id": "82e20aef",
   "metadata": {},
   "outputs": [],
   "source": []
  }
 ],
 "metadata": {
  "kernelspec": {
   "display_name": "Python 3",
   "language": "python",
   "name": "python3"
  },
  "language_info": {
   "codemirror_mode": {
    "name": "ipython",
    "version": 3
   },
   "file_extension": ".py",
   "mimetype": "text/x-python",
   "name": "python",
   "nbconvert_exporter": "python",
   "pygments_lexer": "ipython3",
   "version": "3.8.8"
  }
 },
 "nbformat": 4,
 "nbformat_minor": 5
}
