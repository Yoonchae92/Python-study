{
 "cells": [
  {
   "cell_type": "markdown",
   "id": "a5712a4c",
   "metadata": {},
   "source": [
    "# 1. 순환문\n",
    "\n",
    "특정한 행위(것)를 여러 번 수행하는 문장.\n",
    "for 와 while"
   ]
  },
  {
   "cell_type": "markdown",
   "id": "ac5715ce",
   "metadata": {},
   "source": [
    "## for 문\n",
    "\n",
    "-반복되는 클래스의 객체를 가져와서 그 내부에 원소를 읽음."
   ]
  },
  {
   "cell_type": "code",
   "execution_count": 1,
   "id": "08952a21",
   "metadata": {},
   "outputs": [
    {
     "data": {
      "text/plain": [
       "range(0, 10)"
      ]
     },
     "execution_count": 1,
     "metadata": {},
     "output_type": "execute_result"
    }
   ],
   "source": [
    "range(0,10)"
   ]
  },
  {
   "cell_type": "code",
   "execution_count": 2,
   "id": "7681317f",
   "metadata": {},
   "outputs": [
    {
     "name": "stdout",
     "output_type": "stream",
     "text": [
      "0\n",
      "1\n",
      "2\n",
      "3\n",
      "4\n",
      "5\n",
      "6\n",
      "7\n",
      "8\n",
      "9\n"
     ]
    }
   ],
   "source": [
    "for data in range(0,10):\n",
    "    print(data)"
   ]
  },
  {
   "cell_type": "markdown",
   "id": "cfb130ae",
   "metadata": {},
   "source": [
    "#### range\n",
    "- 범위 : 첫 인덱스 ~ 마지막 인덱스-1"
   ]
  },
  {
   "cell_type": "code",
   "execution_count": 3,
   "id": "600c7a22",
   "metadata": {},
   "outputs": [],
   "source": [
    "a = range(10)"
   ]
  },
  {
   "cell_type": "code",
   "execution_count": 4,
   "id": "dd781fa4",
   "metadata": {},
   "outputs": [
    {
     "data": {
      "text/plain": [
       "range"
      ]
     },
     "execution_count": 4,
     "metadata": {},
     "output_type": "execute_result"
    }
   ],
   "source": [
    "type(a)"
   ]
  },
  {
   "cell_type": "code",
   "execution_count": 6,
   "id": "20a7a1e7",
   "metadata": {},
   "outputs": [
    {
     "data": {
      "text/plain": [
       "range"
      ]
     },
     "execution_count": 6,
     "metadata": {},
     "output_type": "execute_result"
    }
   ],
   "source": [
    "a.__class__"
   ]
  },
  {
   "cell_type": "code",
   "execution_count": 7,
   "id": "4616db4d",
   "metadata": {},
   "outputs": [
    {
     "name": "stdout",
     "output_type": "stream",
     "text": [
      "1\n",
      "2\n",
      "3\n",
      "4\n"
     ]
    }
   ],
   "source": [
    "for data in [1,2,3,4]:\n",
    "    print(data)"
   ]
  },
  {
   "cell_type": "code",
   "execution_count": 9,
   "id": "9f45f126",
   "metadata": {},
   "outputs": [
    {
     "name": "stdout",
     "output_type": "stream",
     "text": [
      "a\n",
      "b\n",
      "c\n"
     ]
    }
   ],
   "source": [
    "for data in \"abc\":\n",
    "    print(data)"
   ]
  },
  {
   "cell_type": "code",
   "execution_count": 16,
   "id": "7aa72529",
   "metadata": {},
   "outputs": [
    {
     "name": "stdout",
     "output_type": "stream",
     "text": [
      "a\n",
      "1\n",
      "b\n",
      "2\n"
     ]
    }
   ],
   "source": [
    "dict_data = {'a':1,'b':2}\n",
    "for data in dict_data:\n",
    "    print(data)\n",
    "    print(dict_data[data])"
   ]
  },
  {
   "cell_type": "code",
   "execution_count": 17,
   "id": "86643900",
   "metadata": {},
   "outputs": [
    {
     "name": "stdout",
     "output_type": "stream",
     "text": [
      "1\n",
      "2\n"
     ]
    }
   ],
   "source": [
    "for data in dict_data.values():\n",
    "    print(data)"
   ]
  },
  {
   "cell_type": "code",
   "execution_count": 19,
   "id": "8577cf44",
   "metadata": {},
   "outputs": [
    {
     "name": "stdout",
     "output_type": "stream",
     "text": [
      "a 1\n",
      "b 2\n"
     ]
    }
   ],
   "source": [
    "for (k,v) in dict_data.items():\n",
    "    print(k,v)"
   ]
  },
  {
   "cell_type": "code",
   "execution_count": 20,
   "id": "2906d5de",
   "metadata": {},
   "outputs": [
    {
     "name": "stdout",
     "output_type": "stream",
     "text": [
      "HEIGHT : 165\n"
     ]
    }
   ],
   "source": [
    "print(\"HEIGHT : \" + str(165))"
   ]
  },
  {
   "cell_type": "code",
   "execution_count": 21,
   "id": "aa8ef8d9",
   "metadata": {},
   "outputs": [
    {
     "data": {
      "text/plain": [
       "'HEIGHT : 165'"
      ]
     },
     "execution_count": 21,
     "metadata": {},
     "output_type": "execute_result"
    }
   ],
   "source": [
    "f'HEIGHT : { 165 }'"
   ]
  },
  {
   "cell_type": "markdown",
   "id": "612eedf9",
   "metadata": {},
   "source": [
    "### break"
   ]
  },
  {
   "cell_type": "code",
   "execution_count": 24,
   "id": "dc4fd21f",
   "metadata": {},
   "outputs": [
    {
     "name": "stdout",
     "output_type": "stream",
     "text": [
      "loop\n"
     ]
    }
   ],
   "source": [
    "for data in range(5):\n",
    "    print(\"loop\")\n",
    "    break"
   ]
  },
  {
   "cell_type": "markdown",
   "id": "7c409d0e",
   "metadata": {},
   "source": [
    "## continue"
   ]
  },
  {
   "cell_type": "code",
   "execution_count": 26,
   "id": "9a442c73",
   "metadata": {},
   "outputs": [
    {
     "name": "stdout",
     "output_type": "stream",
     "text": [
      "1: loop\n",
      "3: loop\n",
      "5: loop\n",
      "7: loop\n",
      "9: loop\n"
     ]
    }
   ],
   "source": [
    "for data in range(10):\n",
    "    if data % 2 == 0:\n",
    "        continue\n",
    "    print(f'{data}: loop')"
   ]
  },
  {
   "cell_type": "code",
   "execution_count": 27,
   "id": "f84b44c5",
   "metadata": {},
   "outputs": [
    {
     "name": "stdout",
     "output_type": "stream",
     "text": [
      "0\n",
      "1\n",
      "2\n",
      "3\n",
      "4\n",
      "for loop end\n"
     ]
    }
   ],
   "source": [
    "for data in range(5):\n",
    "    print(data)\n",
    "else:\n",
    "    print(\"for loop end\")"
   ]
  },
  {
   "cell_type": "code",
   "execution_count": 28,
   "id": "22445153",
   "metadata": {},
   "outputs": [
    {
     "name": "stdout",
     "output_type": "stream",
     "text": [
      "0\n",
      "1\n",
      "2\n"
     ]
    }
   ],
   "source": [
    "for data in range(5):\n",
    "    if data == 3:\n",
    "        break\n",
    "    print(data)\n",
    "else:\n",
    "    print(\"for loop end\")"
   ]
  },
  {
   "cell_type": "code",
   "execution_count": 39,
   "id": "05c02bb5",
   "metadata": {},
   "outputs": [
    {
     "name": "stdout",
     "output_type": "stream",
     "text": [
      "2단\n",
      "2 * 1= 2\n",
      "2 * 2= 4\n",
      "2 * 3= 6\n",
      "2 * 4= 8\n",
      "2 * 5= 10\n",
      "2 * 6= 12\n",
      "2 * 7= 14\n",
      "2 * 8= 16\n",
      "2 * 9= 18\n",
      "\n",
      "3단\n",
      "3 * 1= 3\n",
      "3 * 2= 6\n",
      "3 * 3= 9\n",
      "3 * 4= 12\n",
      "3 * 5= 15\n",
      "3 * 6= 18\n",
      "3 * 7= 21\n",
      "3 * 8= 24\n",
      "3 * 9= 27\n",
      "\n",
      "4단\n",
      "4 * 1= 4\n",
      "4 * 2= 8\n",
      "4 * 3= 12\n",
      "4 * 4= 16\n",
      "4 * 5= 20\n",
      "4 * 6= 24\n",
      "4 * 7= 28\n",
      "4 * 8= 32\n",
      "4 * 9= 36\n",
      "\n",
      "5단\n",
      "5 * 1= 5\n",
      "5 * 2= 10\n",
      "5 * 3= 15\n",
      "5 * 4= 20\n",
      "5 * 5= 25\n",
      "5 * 6= 30\n",
      "5 * 7= 35\n",
      "5 * 8= 40\n",
      "5 * 9= 45\n",
      "\n",
      "6단\n",
      "6 * 1= 6\n",
      "6 * 2= 12\n",
      "6 * 3= 18\n",
      "6 * 4= 24\n",
      "6 * 5= 30\n",
      "6 * 6= 36\n",
      "6 * 7= 42\n",
      "6 * 8= 48\n",
      "6 * 9= 54\n",
      "\n",
      "7단\n",
      "7 * 1= 7\n",
      "7 * 2= 14\n",
      "7 * 3= 21\n",
      "7 * 4= 28\n",
      "7 * 5= 35\n",
      "7 * 6= 42\n",
      "7 * 7= 49\n",
      "7 * 8= 56\n",
      "7 * 9= 63\n",
      "\n",
      "8단\n",
      "8 * 1= 8\n",
      "8 * 2= 16\n",
      "8 * 3= 24\n",
      "8 * 4= 32\n",
      "8 * 5= 40\n",
      "8 * 6= 48\n",
      "8 * 7= 56\n",
      "8 * 8= 64\n",
      "8 * 9= 72\n",
      "\n",
      "9단\n",
      "9 * 1= 9\n",
      "9 * 2= 18\n",
      "9 * 3= 27\n",
      "9 * 4= 36\n",
      "9 * 5= 45\n",
      "9 * 6= 54\n",
      "9 * 7= 63\n",
      "9 * 8= 72\n",
      "9 * 9= 81\n",
      "\n"
     ]
    }
   ],
   "source": [
    "for m in range (2,10):\n",
    "    print(f'{m}단')\n",
    "    for n in range (1,10):\n",
    "        print (f'{m} * {n}= {m*n}')\n",
    "    print()"
   ]
  },
  {
   "cell_type": "markdown",
   "id": "e0bbb693",
   "metadata": {},
   "source": [
    "### while문\n",
    "- 특정 조건식이 만족하는 경우에 순환을 처리"
   ]
  },
  {
   "cell_type": "code",
   "execution_count": 57,
   "id": "4152333c",
   "metadata": {},
   "outputs": [
    {
     "name": "stdout",
     "output_type": "stream",
     "text": [
      "loop\n",
      "loop\n",
      "loop\n",
      "loop\n",
      "loop\n",
      "loop\n",
      "while else end\n"
     ]
    }
   ],
   "source": [
    "index = 0\n",
    "is_while:True\n",
    "    \n",
    "while is_while:\n",
    "    if index >= 5:\n",
    "        is_while = False\n",
    "    print(\"loop\")\n",
    "    index += 1\n",
    "else:\n",
    "    print(\"while else end\")"
   ]
  },
  {
   "cell_type": "code",
   "execution_count": 53,
   "id": "b88a0b5c",
   "metadata": {},
   "outputs": [
    {
     "name": "stdout",
     "output_type": "stream",
     "text": [
      "2단\n",
      "2 * 1 = 2\n",
      "2 * 2 = 4\n",
      "2 * 3 = 6\n",
      "2 * 4 = 8\n",
      "2 * 5 = 10\n",
      "2 * 6 = 12\n",
      "2 * 7 = 14\n",
      "2 * 8 = 16\n",
      "2 * 9 = 18\n",
      "3단\n",
      "3 * 2 = 6\n",
      "3 * 3 = 9\n",
      "3 * 4 = 12\n",
      "3 * 5 = 15\n",
      "3 * 6 = 18\n",
      "3 * 7 = 21\n",
      "3 * 8 = 24\n",
      "3 * 9 = 27\n",
      "4단\n",
      "4 * 2 = 8\n",
      "4 * 3 = 12\n",
      "4 * 4 = 16\n",
      "4 * 5 = 20\n",
      "4 * 6 = 24\n",
      "4 * 7 = 28\n",
      "4 * 8 = 32\n",
      "4 * 9 = 36\n",
      "5단\n",
      "5 * 2 = 10\n",
      "5 * 3 = 15\n",
      "5 * 4 = 20\n",
      "5 * 5 = 25\n",
      "5 * 6 = 30\n",
      "5 * 7 = 35\n",
      "5 * 8 = 40\n",
      "5 * 9 = 45\n",
      "6단\n",
      "6 * 2 = 12\n",
      "6 * 3 = 18\n",
      "6 * 4 = 24\n",
      "6 * 5 = 30\n",
      "6 * 6 = 36\n",
      "6 * 7 = 42\n",
      "6 * 8 = 48\n",
      "6 * 9 = 54\n",
      "7단\n",
      "7 * 2 = 14\n",
      "7 * 3 = 21\n",
      "7 * 4 = 28\n",
      "7 * 5 = 35\n",
      "7 * 6 = 42\n",
      "7 * 7 = 49\n",
      "7 * 8 = 56\n",
      "7 * 9 = 63\n",
      "8단\n",
      "8 * 2 = 16\n",
      "8 * 3 = 24\n",
      "8 * 4 = 32\n",
      "8 * 5 = 40\n",
      "8 * 6 = 48\n",
      "8 * 7 = 56\n",
      "8 * 8 = 64\n",
      "8 * 9 = 72\n",
      "9단\n",
      "9 * 2 = 18\n",
      "9 * 3 = 27\n",
      "9 * 4 = 36\n",
      "9 * 5 = 45\n",
      "9 * 6 = 54\n",
      "9 * 7 = 63\n",
      "9 * 8 = 72\n",
      "9 * 9 = 81\n"
     ]
    }
   ],
   "source": [
    "first = 2\n",
    "second = 1\n",
    "\n",
    "is_dan = False\n",
    "\n",
    "while True:\n",
    "    if is_dan is False:\n",
    "        print(f'{first}단')\n",
    "        is_dan = True\n",
    "    print(f'{first} * {second} = { first * second}')\n",
    "    if second == 9:\n",
    "        if first == 9:\n",
    "            break\n",
    "        is_dan = False\n",
    "        second = 1\n",
    "        first += 1\n",
    "        \n",
    "    second += 1   "
   ]
  },
  {
   "cell_type": "markdown",
   "id": "5d81ba5f",
   "metadata": {},
   "source": [
    "# 2. 제어문\n",
    "\n",
    "keyword: if (elif) else\n",
    "특정조건을 판단해서 특정 기능을 처리"
   ]
  },
  {
   "cell_type": "markdown",
   "id": "094ad4ab",
   "metadata": {},
   "source": [
    "### 비교 연산자\n",
    "\n",
    "== ( equal ), <, >, >=,<="
   ]
  },
  {
   "cell_type": "code",
   "execution_count": 59,
   "id": "59c8be2c",
   "metadata": {},
   "outputs": [
    {
     "data": {
      "text/plain": [
       "True"
      ]
     },
     "execution_count": 59,
     "metadata": {},
     "output_type": "execute_result"
    }
   ],
   "source": [
    "100 == 100"
   ]
  },
  {
   "cell_type": "code",
   "execution_count": 60,
   "id": "ba1b121c",
   "metadata": {},
   "outputs": [
    {
     "data": {
      "text/plain": [
       "False"
      ]
     },
     "execution_count": 60,
     "metadata": {},
     "output_type": "execute_result"
    }
   ],
   "source": [
    "100 < 99"
   ]
  },
  {
   "cell_type": "markdown",
   "id": "ea8f2185",
   "metadata": {},
   "source": [
    "### 논리 연산자\n",
    "\n",
    "and, or"
   ]
  },
  {
   "cell_type": "code",
   "execution_count": 61,
   "id": "3930c87f",
   "metadata": {},
   "outputs": [
    {
     "data": {
      "text/plain": [
       "True"
      ]
     },
     "execution_count": 61,
     "metadata": {},
     "output_type": "execute_result"
    }
   ],
   "source": [
    "(100 == 100) and (100 > 99)"
   ]
  },
  {
   "cell_type": "code",
   "execution_count": 62,
   "id": "20e79db5",
   "metadata": {},
   "outputs": [
    {
     "data": {
      "text/plain": [
       "False"
      ]
     },
     "execution_count": 62,
     "metadata": {},
     "output_type": "execute_result"
    }
   ],
   "source": [
    "(100 == 100) and (100 < 99)"
   ]
  },
  {
   "cell_type": "code",
   "execution_count": 63,
   "id": "be14ffe5",
   "metadata": {},
   "outputs": [
    {
     "data": {
      "text/plain": [
       "True"
      ]
     },
     "execution_count": 63,
     "metadata": {},
     "output_type": "execute_result"
    }
   ],
   "source": [
    "(100 == 100) or (100 > 99)"
   ]
  },
  {
   "cell_type": "code",
   "execution_count": 64,
   "id": "fe266df3",
   "metadata": {},
   "outputs": [
    {
     "data": {
      "text/plain": [
       "True"
      ]
     },
     "execution_count": 64,
     "metadata": {},
     "output_type": "execute_result"
    }
   ],
   "source": [
    "(100 == 100) or (100 < 99)"
   ]
  },
  {
   "cell_type": "markdown",
   "id": "1a0cdf57",
   "metadata": {},
   "source": [
    "### 단순 조건문 if"
   ]
  },
  {
   "cell_type": "code",
   "execution_count": 65,
   "id": "d9fa5b96",
   "metadata": {},
   "outputs": [],
   "source": [
    "import random"
   ]
  },
  {
   "cell_type": "code",
   "execution_count": 77,
   "id": "bbacc4c9",
   "metadata": {},
   "outputs": [
    {
     "name": "stdout",
     "output_type": "stream",
     "text": [
      "6 over\n",
      "10\n"
     ]
    }
   ],
   "source": [
    "random_value = random.randint(0,10)\n",
    "\n",
    "if random_value < 3:\n",
    "    print(\"3 under\")\n",
    "elif random_value < 6:\n",
    "    print(\"6 under\")\n",
    "else:\n",
    "    print(\"6 over\")\n",
    "    \n",
    "print(random_value)"
   ]
  },
  {
   "cell_type": "markdown",
   "id": "3f23931d",
   "metadata": {},
   "source": [
    "### 삼황연산자"
   ]
  },
  {
   "cell_type": "code",
   "execution_count": 78,
   "id": "b9954d91",
   "metadata": {},
   "outputs": [
    {
     "name": "stdout",
     "output_type": "stream",
     "text": [
      "5 under\n",
      "0\n"
     ]
    }
   ],
   "source": [
    "random_value = random.randint(0, 10)\n",
    "\n",
    "print(\"5 over\") if random_value > 5 else print (\"5 under\")\n",
    "print(random_value)"
   ]
  },
  {
   "cell_type": "code",
   "execution_count": 101,
   "id": "6b17794c",
   "metadata": {},
   "outputs": [
    {
     "name": "stdout",
     "output_type": "stream",
     "text": [
      "숫자를 맞춰보세요 :15\n",
      "15\n",
      "이것 보다 작은 수 입니다\n",
      "숫자를 맞춰보세요 :10\n",
      "10\n",
      "이것 보다 작은 수 입니다\n",
      "숫자를 맞춰보세요 :5\n",
      "5\n",
      "이것보다 큰 수 입니다.\n",
      "숫자를 맞춰보세요 :8\n",
      "8\n",
      "이것 보다 작은 수 입니다\n",
      "숫자를 맞춰보세요 :7\n",
      "7\n",
      "숫자를 맞추셨습니다.\n"
     ]
    }
   ],
   "source": [
    "random_value = random.randint(0,50)\n",
    "while True:\n",
    "    guess = int(input(\"숫자를 맞춰보세요 :\"))\n",
    "    print(guess)\n",
    "    \n",
    "    if guess == random_value:\n",
    "        print (\"숫자를 맞추셨습니다.\")\n",
    "        break\n",
    "    elif guess > random_value:\n",
    "        print (\"이것 보다 작은 수 입니다\")\n",
    "    else:\n",
    "        print (\"이것보다 큰 수 입니다.\")"
   ]
  },
  {
   "cell_type": "markdown",
   "id": "8386dff2",
   "metadata": {},
   "source": [
    "# 3. 예외문\n",
    "\n",
    "keywork: try except\n",
    "모든 코드는 실행 중에 에러나 예외가 발생하는 상황 존재.\n",
    "특정 코드를 처리하게끔 해주는 것."
   ]
  },
  {
   "cell_type": "code",
   "execution_count": 106,
   "id": "5cada1dc",
   "metadata": {},
   "outputs": [
    {
     "name": "stdout",
     "output_type": "stream",
     "text": [
      "False\n",
      "try\n",
      "Exception\n",
      "<class 'TypeError'>\n",
      "Finally\n",
      "Send Email for warning\n"
     ]
    }
   ],
   "source": [
    "import sys\n",
    "\n",
    "is_try = False\n",
    "print(is_try)\n",
    "\n",
    "try:\n",
    "    print(\"try\")\n",
    "    print('str' + 1)\n",
    "except:\n",
    "    print(\"Exception\")\n",
    "    is_try = True\n",
    "    print(sys.exc_info()[0])\n",
    "finally:\n",
    "    print(\"Finally\")\n",
    "    if is_try == True:\n",
    "        print(\"Send Email for warning\")"
   ]
  },
  {
   "cell_type": "code",
   "execution_count": null,
   "id": "51873489",
   "metadata": {},
   "outputs": [],
   "source": []
  },
  {
   "cell_type": "code",
   "execution_count": null,
   "id": "d09b30c9",
   "metadata": {},
   "outputs": [],
   "source": []
  },
  {
   "cell_type": "code",
   "execution_count": null,
   "id": "edf3b039",
   "metadata": {},
   "outputs": [],
   "source": []
  },
  {
   "cell_type": "code",
   "execution_count": null,
   "id": "e9da0792",
   "metadata": {},
   "outputs": [],
   "source": []
  },
  {
   "cell_type": "code",
   "execution_count": 103,
   "id": "d58d7066",
   "metadata": {},
   "outputs": [
    {
     "name": "stdout",
     "output_type": "stream",
     "text": [
      "31875000\n"
     ]
    },
    {
     "ename": "KeyboardInterrupt",
     "evalue": "",
     "output_type": "error",
     "traceback": [
      "\u001b[1;31m---------------------------------------------------------------------------\u001b[0m",
      "\u001b[1;31mKeyboardInterrupt\u001b[0m                         Traceback (most recent call last)",
      "\u001b[1;32m<ipython-input-103-5d12cea2b1ac>\u001b[0m in \u001b[0;36m<module>\u001b[1;34m\u001b[0m\n\u001b[0;32m      2\u001b[0m     \u001b[1;32mfor\u001b[0m \u001b[0mb\u001b[0m \u001b[1;32min\u001b[0m \u001b[0mrange\u001b[0m\u001b[1;33m(\u001b[0m\u001b[1;36m1\u001b[0m\u001b[1;33m,\u001b[0m \u001b[1;36m1000\u001b[0m\u001b[1;33m)\u001b[0m\u001b[1;33m:\u001b[0m\u001b[1;33m\u001b[0m\u001b[1;33m\u001b[0m\u001b[0m\n\u001b[0;32m      3\u001b[0m         \u001b[1;32mfor\u001b[0m \u001b[0mc\u001b[0m \u001b[1;32min\u001b[0m \u001b[0mrange\u001b[0m\u001b[1;33m(\u001b[0m\u001b[1;36m1\u001b[0m\u001b[1;33m,\u001b[0m \u001b[1;36m1000\u001b[0m\u001b[1;33m)\u001b[0m\u001b[1;33m:\u001b[0m\u001b[1;33m\u001b[0m\u001b[1;33m\u001b[0m\u001b[0m\n\u001b[1;32m----> 4\u001b[1;33m             \u001b[1;32mif\u001b[0m \u001b[0ma\u001b[0m \u001b[1;33m*\u001b[0m \u001b[0ma\u001b[0m \u001b[1;33m+\u001b[0m\u001b[0mb\u001b[0m \u001b[1;33m*\u001b[0m \u001b[0mb\u001b[0m \u001b[1;33m==\u001b[0m \u001b[0mc\u001b[0m \u001b[1;33m*\u001b[0m \u001b[0mc\u001b[0m \u001b[1;32mand\u001b[0m \u001b[0ma\u001b[0m \u001b[1;33m<\u001b[0m \u001b[0mb\u001b[0m \u001b[1;33m<\u001b[0m \u001b[0mc\u001b[0m \u001b[1;32mand\u001b[0m \u001b[0ma\u001b[0m \u001b[1;33m+\u001b[0m \u001b[0mb\u001b[0m \u001b[1;33m+\u001b[0m\u001b[0mc\u001b[0m \u001b[1;33m==\u001b[0m \u001b[1;36m1000\u001b[0m\u001b[1;33m:\u001b[0m\u001b[1;33m\u001b[0m\u001b[1;33m\u001b[0m\u001b[0m\n\u001b[0m\u001b[0;32m      5\u001b[0m                 \u001b[0mprint\u001b[0m\u001b[1;33m(\u001b[0m\u001b[0ma\u001b[0m\u001b[1;33m*\u001b[0m\u001b[0mb\u001b[0m\u001b[1;33m*\u001b[0m\u001b[0mc\u001b[0m\u001b[1;33m)\u001b[0m\u001b[1;33m\u001b[0m\u001b[1;33m\u001b[0m\u001b[0m\n",
      "\u001b[1;31mKeyboardInterrupt\u001b[0m: "
     ]
    }
   ],
   "source": [
    "for a in range(1, 1000):\n",
    "    for b in range(1, 1000):\n",
    "        for c in range(1, 1000):\n",
    "            if a * a +b * b == c * c and a < b < c and a + b +c == 1000:\n",
    "                print(a*b*c)"
   ]
  },
  {
   "cell_type": "code",
   "execution_count": null,
   "id": "7449a21d",
   "metadata": {},
   "outputs": [],
   "source": []
  }
 ],
 "metadata": {
  "kernelspec": {
   "display_name": "Python 3",
   "language": "python",
   "name": "python3"
  },
  "language_info": {
   "codemirror_mode": {
    "name": "ipython",
    "version": 3
   },
   "file_extension": ".py",
   "mimetype": "text/x-python",
   "name": "python",
   "nbconvert_exporter": "python",
   "pygments_lexer": "ipython3",
   "version": "3.8.8"
  }
 },
 "nbformat": 4,
 "nbformat_minor": 5
}
